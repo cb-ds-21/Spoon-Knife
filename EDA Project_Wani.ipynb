{
 "cells": [
  {
   "cell_type": "markdown",
   "id": "21e0d91b-f24c-4c1f-87d1-9846fb30a6ef",
   "metadata": {},
   "source": [
    "# Exploratory Data Analysis Project\n",
    "___\n",
    "\n",
    "You will be working with the `covid19-can.csv` file located in the `Data` folder.\n",
    "\n",
    "This dataset is obtained from the [Government of Canada Public Healht Infobase](https://www.activestate.com/resources/quick-reads/what-is-pandas-in-python-everything-you-need-to-know/) and contains information on daily reported COVID-19 cases as well as total COVID-19 deaths in all provinces of Canada.\n",
    "\n",
    "**Analyze the above dataset to answer the following questions:**\n",
    "\n",
    "1. What is the total number of COVID-19 cases reported in each province?\n",
    "2. Which province has the highest average rate of COVID-19 per capita?\n",
    "3. What is the average rate of COVID-19 deaths per capita?\n",
    "4. What is the overall mortality rate of COVID-19 in Canada?\n",
    "5. What is the mortality rate per province?\n",
    "6. What are the total reported cases per year?\n",
    "7. For each year in the dataset, find the month with the highest total number of cases.\n",
    "8. For each year, find the month with the lowest total number of cases.\n",
    "9. Which year had the highest mortality rate?\n",
    "10. Which year had the lowest total number of cases?\n",
    "11. Which year had the highest total number of cases?\n",
    "12. In 2020, on which day did Quebex have the highest number of COVID-19 deaths?"
   ]
  },
  {
   "cell_type": "markdown",
   "id": "d9021cca-c9a2-40fd-92de-1c764f54c073",
   "metadata": {},
   "source": [
    "## Step 1: Imports"
   ]
  },
  {
   "cell_type": "code",
   "execution_count": 1,
   "id": "01b8976c-77a2-465f-921d-56dc196c91a4",
   "metadata": {
    "tags": []
   },
   "outputs": [],
   "source": [
    "import pandas as pd\n",
    "import numpy as np"
   ]
  },
  {
   "cell_type": "markdown",
   "id": "cc549a51-de88-4aef-a945-5d2375cf3ec6",
   "metadata": {},
   "source": [
    "## Step 2: Reading Data"
   ]
  },
  {
   "cell_type": "code",
   "execution_count": 2,
   "id": "28b58df3-3257-4c9e-8a7f-4be3ce2f5ff8",
   "metadata": {
    "tags": []
   },
   "outputs": [
    {
     "data": {
      "text/html": [
       "<div>\n",
       "<style scoped>\n",
       "    .dataframe tbody tr th:only-of-type {\n",
       "        vertical-align: middle;\n",
       "    }\n",
       "\n",
       "    .dataframe tbody tr th {\n",
       "        vertical-align: top;\n",
       "    }\n",
       "\n",
       "    .dataframe thead th {\n",
       "        text-align: right;\n",
       "    }\n",
       "</style>\n",
       "<table border=\"1\" class=\"dataframe\">\n",
       "  <thead>\n",
       "    <tr style=\"text-align: right;\">\n",
       "      <th></th>\n",
       "      <th>prname</th>\n",
       "      <th>date</th>\n",
       "      <th>reporting_week</th>\n",
       "      <th>totalcases</th>\n",
       "      <th>ratecases_total</th>\n",
       "      <th>numdeaths</th>\n",
       "      <th>ratedeaths</th>\n",
       "    </tr>\n",
       "  </thead>\n",
       "  <tbody>\n",
       "    <tr>\n",
       "      <th>0</th>\n",
       "      <td>British Columbia</td>\n",
       "      <td>2020-02-01</td>\n",
       "      <td>5</td>\n",
       "      <td>1</td>\n",
       "      <td>0.02</td>\n",
       "      <td>0</td>\n",
       "      <td>0.0</td>\n",
       "    </tr>\n",
       "    <tr>\n",
       "      <th>1</th>\n",
       "      <td>Alberta</td>\n",
       "      <td>2020-02-01</td>\n",
       "      <td>5</td>\n",
       "      <td>0</td>\n",
       "      <td>0.00</td>\n",
       "      <td>0</td>\n",
       "      <td>0.0</td>\n",
       "    </tr>\n",
       "    <tr>\n",
       "      <th>2</th>\n",
       "      <td>Saskatchewan</td>\n",
       "      <td>2020-02-01</td>\n",
       "      <td>5</td>\n",
       "      <td>0</td>\n",
       "      <td>0.00</td>\n",
       "      <td>0</td>\n",
       "      <td>0.0</td>\n",
       "    </tr>\n",
       "    <tr>\n",
       "      <th>3</th>\n",
       "      <td>Manitoba</td>\n",
       "      <td>2020-02-01</td>\n",
       "      <td>5</td>\n",
       "      <td>0</td>\n",
       "      <td>0.00</td>\n",
       "      <td>0</td>\n",
       "      <td>0.0</td>\n",
       "    </tr>\n",
       "    <tr>\n",
       "      <th>4</th>\n",
       "      <td>Ontario</td>\n",
       "      <td>2020-02-01</td>\n",
       "      <td>5</td>\n",
       "      <td>3</td>\n",
       "      <td>0.02</td>\n",
       "      <td>0</td>\n",
       "      <td>0.0</td>\n",
       "    </tr>\n",
       "  </tbody>\n",
       "</table>\n",
       "</div>"
      ],
      "text/plain": [
       "             prname        date  reporting_week  totalcases  ratecases_total  \\\n",
       "0  British Columbia  2020-02-01               5           1             0.02   \n",
       "1           Alberta  2020-02-01               5           0             0.00   \n",
       "2      Saskatchewan  2020-02-01               5           0             0.00   \n",
       "3          Manitoba  2020-02-01               5           0             0.00   \n",
       "4           Ontario  2020-02-01               5           3             0.02   \n",
       "\n",
       "   numdeaths  ratedeaths  \n",
       "0          0         0.0  \n",
       "1          0         0.0  \n",
       "2          0         0.0  \n",
       "3          0         0.0  \n",
       "4          0         0.0  "
      ]
     },
     "execution_count": 2,
     "metadata": {},
     "output_type": "execute_result"
    }
   ],
   "source": [
    "df = pd.read_csv('covid19-can.csv')\n",
    "df\n",
    "df.head()"
   ]
  },
  {
   "cell_type": "code",
   "execution_count": 3,
   "id": "6f312ec9",
   "metadata": {},
   "outputs": [
    {
     "data": {
      "text/html": [
       "<div>\n",
       "<style scoped>\n",
       "    .dataframe tbody tr th:only-of-type {\n",
       "        vertical-align: middle;\n",
       "    }\n",
       "\n",
       "    .dataframe tbody tr th {\n",
       "        vertical-align: top;\n",
       "    }\n",
       "\n",
       "    .dataframe thead th {\n",
       "        text-align: right;\n",
       "    }\n",
       "</style>\n",
       "<table border=\"1\" class=\"dataframe\">\n",
       "  <thead>\n",
       "    <tr style=\"text-align: right;\">\n",
       "      <th></th>\n",
       "      <th>prname</th>\n",
       "      <th>date</th>\n",
       "      <th>reporting_week</th>\n",
       "      <th>totalcases</th>\n",
       "      <th>ratecases_total</th>\n",
       "      <th>numdeaths</th>\n",
       "      <th>ratedeaths</th>\n",
       "    </tr>\n",
       "  </thead>\n",
       "  <tbody>\n",
       "    <tr>\n",
       "      <th>3175</th>\n",
       "      <td>Yukon</td>\n",
       "      <td>2024-02-17</td>\n",
       "      <td>7</td>\n",
       "      <td>4989</td>\n",
       "      <td>11393.27</td>\n",
       "      <td>32</td>\n",
       "      <td>73.08</td>\n",
       "    </tr>\n",
       "    <tr>\n",
       "      <th>3176</th>\n",
       "      <td>Northwest Territories</td>\n",
       "      <td>2024-02-17</td>\n",
       "      <td>7</td>\n",
       "      <td>11511</td>\n",
       "      <td>25240.65</td>\n",
       "      <td>22</td>\n",
       "      <td>48.24</td>\n",
       "    </tr>\n",
       "    <tr>\n",
       "      <th>3177</th>\n",
       "      <td>Nunavut</td>\n",
       "      <td>2024-02-17</td>\n",
       "      <td>7</td>\n",
       "      <td>3531</td>\n",
       "      <td>8712.93</td>\n",
       "      <td>7</td>\n",
       "      <td>17.27</td>\n",
       "    </tr>\n",
       "    <tr>\n",
       "      <th>3178</th>\n",
       "      <td>Repatriated travellers</td>\n",
       "      <td>2024-02-17</td>\n",
       "      <td>7</td>\n",
       "      <td>13</td>\n",
       "      <td>NaN</td>\n",
       "      <td>0</td>\n",
       "      <td>NaN</td>\n",
       "    </tr>\n",
       "    <tr>\n",
       "      <th>3179</th>\n",
       "      <td>Canada</td>\n",
       "      <td>2024-02-17</td>\n",
       "      <td>7</td>\n",
       "      <td>4933311</td>\n",
       "      <td>12672.29</td>\n",
       "      <td>58475</td>\n",
       "      <td>150.21</td>\n",
       "    </tr>\n",
       "  </tbody>\n",
       "</table>\n",
       "</div>"
      ],
      "text/plain": [
       "                      prname        date  reporting_week  totalcases  \\\n",
       "3175                   Yukon  2024-02-17               7        4989   \n",
       "3176   Northwest Territories  2024-02-17               7       11511   \n",
       "3177                 Nunavut  2024-02-17               7        3531   \n",
       "3178  Repatriated travellers  2024-02-17               7          13   \n",
       "3179                  Canada  2024-02-17               7     4933311   \n",
       "\n",
       "      ratecases_total  numdeaths  ratedeaths  \n",
       "3175         11393.27         32       73.08  \n",
       "3176         25240.65         22       48.24  \n",
       "3177          8712.93          7       17.27  \n",
       "3178              NaN          0         NaN  \n",
       "3179         12672.29      58475      150.21  "
      ]
     },
     "execution_count": 3,
     "metadata": {},
     "output_type": "execute_result"
    }
   ],
   "source": [
    "df.tail()"
   ]
  },
  {
   "cell_type": "markdown",
   "id": "64bf717c-f145-4c05-9fe1-a45a6a878212",
   "metadata": {},
   "source": [
    "## Step 3: Data Exploration\n",
    "\n",
    "Explore the dataset to better understand its characteristics, structure, content and data types."
   ]
  },
  {
   "cell_type": "code",
   "execution_count": 4,
   "id": "cbc44ca5-c40e-4a3b-be4a-ec50518742cf",
   "metadata": {
    "tags": []
   },
   "outputs": [
    {
     "data": {
      "text/html": [
       "<div>\n",
       "<style scoped>\n",
       "    .dataframe tbody tr th:only-of-type {\n",
       "        vertical-align: middle;\n",
       "    }\n",
       "\n",
       "    .dataframe tbody tr th {\n",
       "        vertical-align: top;\n",
       "    }\n",
       "\n",
       "    .dataframe thead th {\n",
       "        text-align: right;\n",
       "    }\n",
       "</style>\n",
       "<table border=\"1\" class=\"dataframe\">\n",
       "  <thead>\n",
       "    <tr style=\"text-align: right;\">\n",
       "      <th></th>\n",
       "      <th>reporting_week</th>\n",
       "      <th>totalcases</th>\n",
       "      <th>ratecases_total</th>\n",
       "      <th>numdeaths</th>\n",
       "      <th>ratedeaths</th>\n",
       "    </tr>\n",
       "  </thead>\n",
       "  <tbody>\n",
       "    <tr>\n",
       "      <th>count</th>\n",
       "      <td>3180.000000</td>\n",
       "      <td>3.180000e+03</td>\n",
       "      <td>2968.000000</td>\n",
       "      <td>3180.000000</td>\n",
       "      <td>2968.000000</td>\n",
       "    </tr>\n",
       "    <tr>\n",
       "      <th>mean</th>\n",
       "      <td>26.334906</td>\n",
       "      <td>3.518890e+05</td>\n",
       "      <td>7405.393693</td>\n",
       "      <td>4425.555975</td>\n",
       "      <td>59.537823</td>\n",
       "    </tr>\n",
       "    <tr>\n",
       "      <th>std</th>\n",
       "      <td>15.176101</td>\n",
       "      <td>8.596645e+05</td>\n",
       "      <td>7583.690076</td>\n",
       "      <td>10030.916779</td>\n",
       "      <td>56.302812</td>\n",
       "    </tr>\n",
       "    <tr>\n",
       "      <th>min</th>\n",
       "      <td>1.000000</td>\n",
       "      <td>0.000000e+00</td>\n",
       "      <td>0.000000</td>\n",
       "      <td>0.000000</td>\n",
       "      <td>0.000000</td>\n",
       "    </tr>\n",
       "    <tr>\n",
       "      <th>25%</th>\n",
       "      <td>13.000000</td>\n",
       "      <td>7.955000e+02</td>\n",
       "      <td>289.237500</td>\n",
       "      <td>7.000000</td>\n",
       "      <td>6.367500</td>\n",
       "    </tr>\n",
       "    <tr>\n",
       "      <th>50%</th>\n",
       "      <td>26.000000</td>\n",
       "      <td>4.258900e+04</td>\n",
       "      <td>6962.710000</td>\n",
       "      <td>217.000000</td>\n",
       "      <td>48.240000</td>\n",
       "    </tr>\n",
       "    <tr>\n",
       "      <th>75%</th>\n",
       "      <td>39.250000</td>\n",
       "      <td>1.613332e+05</td>\n",
       "      <td>11386.880000</td>\n",
       "      <td>3002.500000</td>\n",
       "      <td>98.690000</td>\n",
       "    </tr>\n",
       "    <tr>\n",
       "      <th>max</th>\n",
       "      <td>53.000000</td>\n",
       "      <td>4.933311e+06</td>\n",
       "      <td>34224.430000</td>\n",
       "      <td>58475.000000</td>\n",
       "      <td>227.440000</td>\n",
       "    </tr>\n",
       "  </tbody>\n",
       "</table>\n",
       "</div>"
      ],
      "text/plain": [
       "       reporting_week    totalcases  ratecases_total     numdeaths  \\\n",
       "count     3180.000000  3.180000e+03      2968.000000   3180.000000   \n",
       "mean        26.334906  3.518890e+05      7405.393693   4425.555975   \n",
       "std         15.176101  8.596645e+05      7583.690076  10030.916779   \n",
       "min          1.000000  0.000000e+00         0.000000      0.000000   \n",
       "25%         13.000000  7.955000e+02       289.237500      7.000000   \n",
       "50%         26.000000  4.258900e+04      6962.710000    217.000000   \n",
       "75%         39.250000  1.613332e+05     11386.880000   3002.500000   \n",
       "max         53.000000  4.933311e+06     34224.430000  58475.000000   \n",
       "\n",
       "        ratedeaths  \n",
       "count  2968.000000  \n",
       "mean     59.537823  \n",
       "std      56.302812  \n",
       "min       0.000000  \n",
       "25%       6.367500  \n",
       "50%      48.240000  \n",
       "75%      98.690000  \n",
       "max     227.440000  "
      ]
     },
     "metadata": {},
     "output_type": "display_data"
    }
   ],
   "source": [
    "display(df.describe())"
   ]
  },
  {
   "cell_type": "code",
   "execution_count": 5,
   "id": "3e485859",
   "metadata": {},
   "outputs": [
    {
     "name": "stdout",
     "output_type": "stream",
     "text": [
      "<class 'pandas.core.frame.DataFrame'>\n",
      "RangeIndex: 3180 entries, 0 to 3179\n",
      "Data columns (total 7 columns):\n",
      " #   Column           Non-Null Count  Dtype  \n",
      "---  ------           --------------  -----  \n",
      " 0   prname           3180 non-null   object \n",
      " 1   date             3180 non-null   object \n",
      " 2   reporting_week   3180 non-null   int64  \n",
      " 3   totalcases       3180 non-null   int64  \n",
      " 4   ratecases_total  2968 non-null   float64\n",
      " 5   numdeaths        3180 non-null   int64  \n",
      " 6   ratedeaths       2968 non-null   float64\n",
      "dtypes: float64(2), int64(3), object(2)\n",
      "memory usage: 174.0+ KB\n"
     ]
    }
   ],
   "source": [
    "df.info()"
   ]
  },
  {
   "cell_type": "markdown",
   "id": "9410037f-2851-4c0f-89ae-b7dee0b0b30b",
   "metadata": {},
   "source": [
    "## Step 4: Data Preparation"
   ]
  },
  {
   "cell_type": "code",
   "execution_count": 6,
   "id": "3ed986f4",
   "metadata": {},
   "outputs": [
    {
     "data": {
      "text/plain": [
       "prname               0\n",
       "date                 0\n",
       "reporting_week       0\n",
       "totalcases           0\n",
       "ratecases_total    212\n",
       "numdeaths            0\n",
       "ratedeaths         212\n",
       "dtype: int64"
      ]
     },
     "execution_count": 6,
     "metadata": {},
     "output_type": "execute_result"
    }
   ],
   "source": [
    "# Check for missing values\n",
    "df.isnull().sum()"
   ]
  },
  {
   "cell_type": "code",
   "execution_count": 7,
   "id": "91886c97",
   "metadata": {},
   "outputs": [
    {
     "data": {
      "text/plain": [
       "array(['British Columbia', 'Alberta', 'Saskatchewan', 'Manitoba',\n",
       "       'Ontario', 'Quebec', 'Newfoundland and Labrador', 'New Brunswick',\n",
       "       'Nova Scotia', 'Prince Edward Island', 'Yukon',\n",
       "       'Northwest Territories', 'Nunavut', 'Repatriated travellers',\n",
       "       'Canada'], dtype=object)"
      ]
     },
     "execution_count": 7,
     "metadata": {},
     "output_type": "execute_result"
    }
   ],
   "source": [
    "# Find all unique values in the 'prname' column\n",
    "unique_prnames = df['prname'].unique()\n",
    "unique_prnames"
   ]
  },
  {
   "cell_type": "code",
   "execution_count": 26,
   "id": "fef72eb3",
   "metadata": {},
   "outputs": [
    {
     "name": "stderr",
     "output_type": "stream",
     "text": [
      "C:\\Users\\milto\\AppData\\Local\\Temp\\ipykernel_37668\\1329724114.py:2: FutureWarning: DataFrame.mean and DataFrame.median with numeric_only=None will include datetime64 and datetime64tz columns in a future version.\n",
      "  df.fillna(df.mean(), inplace=True)\n",
      "C:\\Users\\milto\\AppData\\Local\\Temp\\ipykernel_37668\\1329724114.py:2: FutureWarning: The default value of numeric_only in DataFrame.mean is deprecated. In a future version, it will default to False. In addition, specifying 'numeric_only=None' is deprecated. Select only valid columns or specify the value of numeric_only to silence this warning.\n",
      "  df.fillna(df.mean(), inplace=True)\n"
     ]
    },
    {
     "data": {
      "text/plain": [
       "prname             0\n",
       "date               0\n",
       "reporting_week     0\n",
       "totalcases         0\n",
       "ratecases_total    0\n",
       "numdeaths          0\n",
       "ratedeaths         0\n",
       "year               0\n",
       "month              0\n",
       "dtype: int64"
      ]
     },
     "execution_count": 26,
     "metadata": {},
     "output_type": "execute_result"
    }
   ],
   "source": [
    "# Fill missing values with the mean of each column\n",
    "df.fillna(df.mean(), inplace=True)\n",
    "\n",
    "df.isnull().sum()"
   ]
  },
  {
   "cell_type": "code",
   "execution_count": 9,
   "id": "a9373f76",
   "metadata": {},
   "outputs": [
    {
     "name": "stdout",
     "output_type": "stream",
     "text": [
      "Number of rows before deletion: 3180\n",
      "Number of rows after deletion: 2968\n"
     ]
    }
   ],
   "source": [
    "# Display the number of rows before deletion\n",
    "print(f\"Number of rows before deletion: {len(df)}\")\n",
    "\n",
    "# Delete all records with 'Canada' in the 'prname' column\n",
    "df = df[df['prname'] != 'Canada']\n",
    "\n",
    "# Display the number of rows after deletion\n",
    "print(f\"Number of rows after deletion: {len(df)}\")"
   ]
  },
  {
   "cell_type": "code",
   "execution_count": 10,
   "id": "cd2f9a66-f6fe-4ad0-8a13-31c7a16b0beb",
   "metadata": {},
   "outputs": [
    {
     "name": "stdout",
     "output_type": "stream",
     "text": [
      "<class 'pandas.core.frame.DataFrame'>\n",
      "Int64Index: 2968 entries, 0 to 3178\n",
      "Data columns (total 7 columns):\n",
      " #   Column           Non-Null Count  Dtype         \n",
      "---  ------           --------------  -----         \n",
      " 0   prname           2968 non-null   object        \n",
      " 1   date             2968 non-null   datetime64[ns]\n",
      " 2   reporting_week   2968 non-null   int64         \n",
      " 3   totalcases       2968 non-null   int64         \n",
      " 4   ratecases_total  2968 non-null   float64       \n",
      " 5   numdeaths        2968 non-null   int64         \n",
      " 6   ratedeaths       2968 non-null   float64       \n",
      "dtypes: datetime64[ns](1), float64(2), int64(3), object(1)\n",
      "memory usage: 185.5+ KB\n"
     ]
    }
   ],
   "source": [
    "# Convert the 'date' column to datetime format\n",
    "df['date'] = pd.to_datetime(df['date'])\n",
    "\n",
    "# Verify the conversion\n",
    "df['date'].head()\n",
    "df.info()"
   ]
  },
  {
   "cell_type": "code",
   "execution_count": 11,
   "id": "ebed658d-7cea-438c-8098-b8bbad8c0465",
   "metadata": {},
   "outputs": [
    {
     "name": "stdout",
     "output_type": "stream",
     "text": [
      "<class 'pandas.core.frame.DataFrame'>\n",
      "Int64Index: 2968 entries, 0 to 3178\n",
      "Data columns (total 8 columns):\n",
      " #   Column           Non-Null Count  Dtype         \n",
      "---  ------           --------------  -----         \n",
      " 0   prname           2968 non-null   object        \n",
      " 1   date             2968 non-null   datetime64[ns]\n",
      " 2   reporting_week   2968 non-null   int64         \n",
      " 3   totalcases       2968 non-null   int64         \n",
      " 4   ratecases_total  2968 non-null   float64       \n",
      " 5   numdeaths        2968 non-null   int64         \n",
      " 6   ratedeaths       2968 non-null   float64       \n",
      " 7   year             2968 non-null   int64         \n",
      "dtypes: datetime64[ns](1), float64(2), int64(4), object(1)\n",
      "memory usage: 208.7+ KB\n"
     ]
    }
   ],
   "source": [
    "# Create a 'year' column\n",
    "df['year'] = df['date'].dt.year\n",
    "\n",
    "# Verify the creation of the 'year' column\n",
    "df[['date', 'year']].head()\n",
    "df.info()"
   ]
  },
  {
   "cell_type": "code",
   "execution_count": 12,
   "id": "5aa5a643-d01e-420e-af59-94bfa2c40045",
   "metadata": {
    "tags": []
   },
   "outputs": [
    {
     "name": "stdout",
     "output_type": "stream",
     "text": [
      "<class 'pandas.core.frame.DataFrame'>\n",
      "Int64Index: 2968 entries, 0 to 3178\n",
      "Data columns (total 9 columns):\n",
      " #   Column           Non-Null Count  Dtype         \n",
      "---  ------           --------------  -----         \n",
      " 0   prname           2968 non-null   object        \n",
      " 1   date             2968 non-null   datetime64[ns]\n",
      " 2   reporting_week   2968 non-null   int64         \n",
      " 3   totalcases       2968 non-null   int64         \n",
      " 4   ratecases_total  2968 non-null   float64       \n",
      " 5   numdeaths        2968 non-null   int64         \n",
      " 6   ratedeaths       2968 non-null   float64       \n",
      " 7   year             2968 non-null   int64         \n",
      " 8   month            2968 non-null   int64         \n",
      "dtypes: datetime64[ns](1), float64(2), int64(5), object(1)\n",
      "memory usage: 231.9+ KB\n"
     ]
    }
   ],
   "source": [
    "# Create month column\n",
    "df['month'] = df['date'].dt.month\n",
    "\n",
    "# Verify the creation of the 'year' and 'month' columns\n",
    "df[['date', 'year', 'month']].head()\n",
    "df.info()"
   ]
  },
  {
   "cell_type": "markdown",
   "id": "758536eb-0ff8-405f-b01b-2c68a928427a",
   "metadata": {},
   "source": [
    "## Step 5: Data Analysis"
   ]
  },
  {
   "cell_type": "code",
   "execution_count": 13,
   "id": "c57758b0-763d-467e-b58d-87ea0a7d61c9",
   "metadata": {
    "tags": []
   },
   "outputs": [
    {
     "name": "stdout",
     "output_type": "stream",
     "text": [
      "                     Province  Total Cases\n",
      "0                     Alberta     80504411\n",
      "1            British Columbia     51249692\n",
      "2                    Manitoba     19485185\n",
      "3               New Brunswick      8912651\n",
      "4   Newfoundland and Labrador      5629703\n",
      "5       Northwest Territories      1256158\n",
      "6                 Nova Scotia     13941547\n",
      "7                     Nunavut       407810\n",
      "8                     Ontario    193613879\n",
      "9        Prince Edward Island      5385603\n",
      "10                     Quebec    159348011\n",
      "11     Repatriated travellers         2667\n",
      "12               Saskatchewan     19218685\n",
      "13                      Yukon       547530\n"
     ]
    }
   ],
   "source": [
    "# 1. Total number of COVID-19 cases reported in each province\n",
    "total_cases_per_province = df.groupby('prname')['totalcases'].sum().reset_index()\n",
    "total_cases_per_province.columns = ['Province', 'Total Cases']\n",
    "print(total_cases_per_province)"
   ]
  },
  {
   "cell_type": "code",
   "execution_count": 14,
   "id": "c6d76a76-853c-4f99-9c3f-42e8b08865b0",
   "metadata": {
    "tags": []
   },
   "outputs": [
    {
     "name": "stdout",
     "output_type": "stream",
     "text": [
      "Prince Edward Island had the highest average rate of 14883.17174528302 cases per capita.\n"
     ]
    }
   ],
   "source": [
    "# 2. Province with the highest average rate of COVID-19 cases per capita\n",
    "\n",
    "# Calculate the average rate of COVID-19 cases per capita for each province\n",
    "average_rate_per_province = df.groupby('prname')['ratecases_total'].mean()\n",
    "\n",
    "# Find the province with the highest average rate of COVID-19 cases per capita\n",
    "highest_average_rate_province = average_rate_per_province.idxmax()\n",
    "highest_average_rate_value = average_rate_per_province.max()\n",
    "\n",
    "print(f\"{highest_average_rate_province} had the highest average rate of {highest_average_rate_value} cases per capita.\")"
   ]
  },
  {
   "cell_type": "code",
   "execution_count": 15,
   "id": "1106bb0c-90ac-444a-96a0-33b4a3b2dcd9",
   "metadata": {
    "tags": []
   },
   "outputs": [
    {
     "data": {
      "text/plain": [
       "prname\n",
       "Alberta                       74.866557\n",
       "British Columbia              56.885755\n",
       "Manitoba                     104.345000\n",
       "New Brunswick                 46.505094\n",
       "Newfoundland and Labrador     27.750472\n",
       "Northwest Territories         26.178160\n",
       "Nova Scotia                   36.972264\n",
       "Nunavut                       10.858443\n",
       "Ontario                       72.335519\n",
       "Prince Edward Island          23.321557\n",
       "Quebec                       141.923302\n",
       "Repatriated travellers        59.537823\n",
       "Saskatchewan                  87.859528\n",
       "Yukon                         38.467547\n",
       "Name: ratedeaths, dtype: float64"
      ]
     },
     "execution_count": 15,
     "metadata": {},
     "output_type": "execute_result"
    }
   ],
   "source": [
    "# 3. Average rate of COVID-19 deaths per capita in each province\n",
    "\n",
    "average_death_rate_per_province = df.groupby('prname')['ratedeaths'].mean()\n",
    "\n",
    "average_death_rate_per_province"
   ]
  },
  {
   "cell_type": "code",
   "execution_count": 16,
   "id": "08fa18ee-83a3-4bb4-97b2-36c1ae4a0998",
   "metadata": {
    "tags": []
   },
   "outputs": [
    {
     "name": "stdout",
     "output_type": "stream",
     "text": [
      "This is the percent of overall morality rate of COVID-19 in Canada:\n"
     ]
    },
    {
     "data": {
      "text/plain": [
       "1.2576567613160303"
      ]
     },
     "execution_count": 16,
     "metadata": {},
     "output_type": "execute_result"
    }
   ],
   "source": [
    "# 4. Overall mortality rate of COVID-19 in Canada\n",
    "total_cases = df['totalcases'].sum()\n",
    "total_deaths = df['numdeaths'].sum()\n",
    "\n",
    "# Calculate the overall mortality rate\n",
    "overall_mortality_rate = (total_deaths / total_cases) * 100\n",
    "\n",
    "print(\"This is the percent of overall morality rate of COVID-19 in Canada:\")\n",
    "overall_mortality_rate"
   ]
  },
  {
   "cell_type": "code",
   "execution_count": 17,
   "id": "d2c1772f-9b7a-49e5-8996-222a9598ac19",
   "metadata": {
    "tags": []
   },
   "outputs": [
    {
     "data": {
      "text/html": [
       "<div>\n",
       "<style scoped>\n",
       "    .dataframe tbody tr th:only-of-type {\n",
       "        vertical-align: middle;\n",
       "    }\n",
       "\n",
       "    .dataframe tbody tr th {\n",
       "        vertical-align: top;\n",
       "    }\n",
       "\n",
       "    .dataframe thead th {\n",
       "        text-align: right;\n",
       "    }\n",
       "</style>\n",
       "<table border=\"1\" class=\"dataframe\">\n",
       "  <thead>\n",
       "    <tr style=\"text-align: right;\">\n",
       "      <th></th>\n",
       "      <th>totalcases</th>\n",
       "      <th>numdeaths</th>\n",
       "      <th>mortality_rate</th>\n",
       "    </tr>\n",
       "    <tr>\n",
       "      <th>prname</th>\n",
       "      <th></th>\n",
       "      <th></th>\n",
       "      <th></th>\n",
       "    </tr>\n",
       "  </thead>\n",
       "  <tbody>\n",
       "    <tr>\n",
       "      <th>Alberta</th>\n",
       "      <td>80504411</td>\n",
       "      <td>721071</td>\n",
       "      <td>0.895691</td>\n",
       "    </tr>\n",
       "    <tr>\n",
       "      <th>British Columbia</th>\n",
       "      <td>51249692</td>\n",
       "      <td>641500</td>\n",
       "      <td>1.251715</td>\n",
       "    </tr>\n",
       "    <tr>\n",
       "      <th>Manitoba</th>\n",
       "      <td>19485185</td>\n",
       "      <td>311736</td>\n",
       "      <td>1.599862</td>\n",
       "    </tr>\n",
       "    <tr>\n",
       "      <th>New Brunswick</th>\n",
       "      <td>8912651</td>\n",
       "      <td>80061</td>\n",
       "      <td>0.898285</td>\n",
       "    </tr>\n",
       "    <tr>\n",
       "      <th>Newfoundland and Labrador</th>\n",
       "      <td>5629703</td>\n",
       "      <td>30944</td>\n",
       "      <td>0.549656</td>\n",
       "    </tr>\n",
       "    <tr>\n",
       "      <th>Northwest Territories</th>\n",
       "      <td>1256158</td>\n",
       "      <td>2531</td>\n",
       "      <td>0.201487</td>\n",
       "    </tr>\n",
       "    <tr>\n",
       "      <th>Nova Scotia</th>\n",
       "      <td>13941547</td>\n",
       "      <td>79929</td>\n",
       "      <td>0.573315</td>\n",
       "    </tr>\n",
       "    <tr>\n",
       "      <th>Nunavut</th>\n",
       "      <td>407810</td>\n",
       "      <td>933</td>\n",
       "      <td>0.228783</td>\n",
       "    </tr>\n",
       "    <tr>\n",
       "      <th>Ontario</th>\n",
       "      <td>193613879</td>\n",
       "      <td>2317048</td>\n",
       "      <td>1.196737</td>\n",
       "    </tr>\n",
       "    <tr>\n",
       "      <th>Prince Edward Island</th>\n",
       "      <td>5385603</td>\n",
       "      <td>8439</td>\n",
       "      <td>0.156696</td>\n",
       "    </tr>\n",
       "    <tr>\n",
       "      <th>Quebec</th>\n",
       "      <td>159348011</td>\n",
       "      <td>2616324</td>\n",
       "      <td>1.641893</td>\n",
       "    </tr>\n",
       "    <tr>\n",
       "      <th>Repatriated travellers</th>\n",
       "      <td>2667</td>\n",
       "      <td>0</td>\n",
       "      <td>0.000000</td>\n",
       "    </tr>\n",
       "    <tr>\n",
       "      <th>Saskatchewan</th>\n",
       "      <td>19218685</td>\n",
       "      <td>222547</td>\n",
       "      <td>1.157972</td>\n",
       "    </tr>\n",
       "    <tr>\n",
       "      <th>Yukon</th>\n",
       "      <td>547530</td>\n",
       "      <td>3571</td>\n",
       "      <td>0.652202</td>\n",
       "    </tr>\n",
       "  </tbody>\n",
       "</table>\n",
       "</div>"
      ],
      "text/plain": [
       "                           totalcases  numdeaths  mortality_rate\n",
       "prname                                                          \n",
       "Alberta                      80504411     721071        0.895691\n",
       "British Columbia             51249692     641500        1.251715\n",
       "Manitoba                     19485185     311736        1.599862\n",
       "New Brunswick                 8912651      80061        0.898285\n",
       "Newfoundland and Labrador     5629703      30944        0.549656\n",
       "Northwest Territories         1256158       2531        0.201487\n",
       "Nova Scotia                  13941547      79929        0.573315\n",
       "Nunavut                        407810        933        0.228783\n",
       "Ontario                     193613879    2317048        1.196737\n",
       "Prince Edward Island          5385603       8439        0.156696\n",
       "Quebec                      159348011    2616324        1.641893\n",
       "Repatriated travellers           2667          0        0.000000\n",
       "Saskatchewan                 19218685     222547        1.157972\n",
       "Yukon                          547530       3571        0.652202"
      ]
     },
     "execution_count": 17,
     "metadata": {},
     "output_type": "execute_result"
    }
   ],
   "source": [
    "# 5. Mortality rate per province\n",
    "\n",
    "# Calculate total cases and total deaths per province\n",
    "province_totals = df.groupby('prname')[['totalcases', 'numdeaths']].sum()\n",
    "\n",
    "# Calculate the mortality rate per province\n",
    "province_totals['mortality_rate'] = (province_totals['numdeaths'] / province_totals['totalcases']) * 100\n",
    "\n",
    "province_totals"
   ]
  },
  {
   "cell_type": "code",
   "execution_count": 18,
   "id": "be6c2a6f-625b-4d2f-a0a7-9336f75bca51",
   "metadata": {
    "tags": []
   },
   "outputs": [
    {
     "data": {
      "text/plain": [
       "year\n",
       "2020      6505799\n",
       "2021     69106139\n",
       "2022    204978389\n",
       "2023    244473764\n",
       "2024     34439441\n",
       "Name: totalcases, dtype: int64"
      ]
     },
     "execution_count": 18,
     "metadata": {},
     "output_type": "execute_result"
    }
   ],
   "source": [
    "# 6. Total reported cases per year\n",
    "# Calculate total reported cases per year\n",
    "total_cases_per_year = df.groupby('year')['totalcases'].sum()\n",
    "\n",
    "total_cases_per_year"
   ]
  },
  {
   "cell_type": "code",
   "execution_count": 19,
   "id": "709af432-2151-4c72-ab51-1f3b04710d9b",
   "metadata": {
    "tags": []
   },
   "outputs": [
    {
     "data": {
      "text/html": [
       "<div>\n",
       "<style scoped>\n",
       "    .dataframe tbody tr th:only-of-type {\n",
       "        vertical-align: middle;\n",
       "    }\n",
       "\n",
       "    .dataframe tbody tr th {\n",
       "        vertical-align: top;\n",
       "    }\n",
       "\n",
       "    .dataframe thead th {\n",
       "        text-align: right;\n",
       "    }\n",
       "</style>\n",
       "<table border=\"1\" class=\"dataframe\">\n",
       "  <thead>\n",
       "    <tr style=\"text-align: right;\">\n",
       "      <th></th>\n",
       "      <th>year</th>\n",
       "      <th>month</th>\n",
       "      <th>totalcases</th>\n",
       "    </tr>\n",
       "  </thead>\n",
       "  <tbody>\n",
       "    <tr>\n",
       "      <th>10</th>\n",
       "      <td>2020</td>\n",
       "      <td>12</td>\n",
       "      <td>1916862</td>\n",
       "    </tr>\n",
       "    <tr>\n",
       "      <th>20</th>\n",
       "      <td>2021</td>\n",
       "      <td>10</td>\n",
       "      <td>8371901</td>\n",
       "    </tr>\n",
       "    <tr>\n",
       "      <th>34</th>\n",
       "      <td>2022</td>\n",
       "      <td>12</td>\n",
       "      <td>22382180</td>\n",
       "    </tr>\n",
       "    <tr>\n",
       "      <th>46</th>\n",
       "      <td>2023</td>\n",
       "      <td>12</td>\n",
       "      <td>24342892</td>\n",
       "    </tr>\n",
       "    <tr>\n",
       "      <th>47</th>\n",
       "      <td>2024</td>\n",
       "      <td>1</td>\n",
       "      <td>19650173</td>\n",
       "    </tr>\n",
       "  </tbody>\n",
       "</table>\n",
       "</div>"
      ],
      "text/plain": [
       "    year  month  totalcases\n",
       "10  2020     12     1916862\n",
       "20  2021     10     8371901\n",
       "34  2022     12    22382180\n",
       "46  2023     12    24342892\n",
       "47  2024      1    19650173"
      ]
     },
     "execution_count": 19,
     "metadata": {},
     "output_type": "execute_result"
    }
   ],
   "source": [
    "# 7. Month with highest total cases for each year\n",
    "\n",
    "# Calculate total cases per year and month\n",
    "cases_per_year_month = df.groupby(['year', 'month'])['totalcases'].sum().reset_index()\n",
    "\n",
    "# Find the month with the highest total cases for each year\n",
    "max_cases_per_year = cases_per_year_month.loc[cases_per_year_month.groupby('year')['totalcases'].idxmax()]\n",
    "\n",
    "max_cases_per_year"
   ]
  },
  {
   "cell_type": "code",
   "execution_count": 20,
   "id": "74998d56-85c6-421d-9dfa-14a6aad73f01",
   "metadata": {
    "tags": []
   },
   "outputs": [
    {
     "data": {
      "text/html": [
       "<div>\n",
       "<style scoped>\n",
       "    .dataframe tbody tr th:only-of-type {\n",
       "        vertical-align: middle;\n",
       "    }\n",
       "\n",
       "    .dataframe tbody tr th {\n",
       "        vertical-align: top;\n",
       "    }\n",
       "\n",
       "    .dataframe thead th {\n",
       "        text-align: right;\n",
       "    }\n",
       "</style>\n",
       "<table border=\"1\" class=\"dataframe\">\n",
       "  <thead>\n",
       "    <tr style=\"text-align: right;\">\n",
       "      <th></th>\n",
       "      <th>year</th>\n",
       "      <th>month</th>\n",
       "      <th>totalcases</th>\n",
       "    </tr>\n",
       "  </thead>\n",
       "  <tbody>\n",
       "    <tr>\n",
       "      <th>10</th>\n",
       "      <td>2020</td>\n",
       "      <td>12</td>\n",
       "      <td>1916862</td>\n",
       "    </tr>\n",
       "    <tr>\n",
       "      <th>20</th>\n",
       "      <td>2021</td>\n",
       "      <td>10</td>\n",
       "      <td>8371901</td>\n",
       "    </tr>\n",
       "    <tr>\n",
       "      <th>34</th>\n",
       "      <td>2022</td>\n",
       "      <td>12</td>\n",
       "      <td>22382180</td>\n",
       "    </tr>\n",
       "    <tr>\n",
       "      <th>46</th>\n",
       "      <td>2023</td>\n",
       "      <td>12</td>\n",
       "      <td>24342892</td>\n",
       "    </tr>\n",
       "    <tr>\n",
       "      <th>47</th>\n",
       "      <td>2024</td>\n",
       "      <td>1</td>\n",
       "      <td>19650173</td>\n",
       "    </tr>\n",
       "  </tbody>\n",
       "</table>\n",
       "</div>"
      ],
      "text/plain": [
       "    year  month  totalcases\n",
       "10  2020     12     1916862\n",
       "20  2021     10     8371901\n",
       "34  2022     12    22382180\n",
       "46  2023     12    24342892\n",
       "47  2024      1    19650173"
      ]
     },
     "execution_count": 20,
     "metadata": {},
     "output_type": "execute_result"
    }
   ],
   "source": [
    "# 8. Month with lowest total cases for each year\n",
    "max_cases_per_year = cases_per_year_month.loc[cases_per_year_month.groupby('year')['totalcases'].idxmax()]\n",
    "\n",
    "max_cases_per_year"
   ]
  },
  {
   "cell_type": "code",
   "execution_count": 21,
   "id": "c62a05ee-8578-4381-ba22-937094183ecc",
   "metadata": {
    "tags": []
   },
   "outputs": [
    {
     "name": "stdout",
     "output_type": "stream",
     "text": [
      "   year  mortality_rate\n",
      "0  2020        5.117619\n",
      "1  2021        1.875282\n",
      "2  2022        1.074235\n",
      "3  2023        1.144756\n",
      "4  2024        1.182304\n"
     ]
    }
   ],
   "source": [
    "# 9. Yearly mortality rate\n",
    "\n",
    "# Calculate total deaths and total cases per year\n",
    "deaths_per_year = df.groupby('year')['numdeaths'].sum().reset_index()\n",
    "cases_per_year = df.groupby('year')['totalcases'].sum().reset_index()\n",
    "\n",
    "# Merge deaths and cases per year\n",
    "yearly_data = pd.merge(deaths_per_year, cases_per_year, on='year', how='inner')\n",
    "\n",
    "# Calculate mortality rate per year\n",
    "yearly_data['mortality_rate'] = (yearly_data['numdeaths'] / yearly_data['totalcases']) * 100\n",
    "\n",
    "# Print the yearly mortality rate\n",
    "print(yearly_data[['year', 'mortality_rate']])"
   ]
  },
  {
   "cell_type": "code",
   "execution_count": 22,
   "id": "72e52205-a74e-4795-a6c6-61d041487454",
   "metadata": {
    "tags": []
   },
   "outputs": [
    {
     "data": {
      "text/plain": [
       "year             2020\n",
       "totalcases    6505799\n",
       "Name: 0, dtype: int64"
      ]
     },
     "execution_count": 22,
     "metadata": {},
     "output_type": "execute_result"
    }
   ],
   "source": [
    "# 10/11: Year with lowest total cases\n",
    "# Calculate total reported cases per year\n",
    "total_cases_per_year = df.groupby('year')['totalcases'].sum().reset_index()\n",
    "\n",
    "# Find the year with the lowest total number of cases\n",
    "year_with_lowest_cases = total_cases_per_year.loc[total_cases_per_year['totalcases'].idxmin()]\n",
    "\n",
    "year_with_lowest_cases"
   ]
  },
  {
   "cell_type": "code",
   "execution_count": 23,
   "id": "ab047e3d-66f2-492a-ae7e-770b7a551214",
   "metadata": {
    "tags": []
   },
   "outputs": [
    {
     "data": {
      "text/plain": [
       "year               2023\n",
       "totalcases    244473764\n",
       "Name: 3, dtype: int64"
      ]
     },
     "execution_count": 23,
     "metadata": {},
     "output_type": "execute_result"
    }
   ],
   "source": [
    "# 11. Year with highest total cases\n",
    "year_with_highest_cases = total_cases_per_year.loc[total_cases_per_year['totalcases'].idxmax()]\n",
    "\n",
    "year_with_highest_cases"
   ]
  },
  {
   "cell_type": "code",
   "execution_count": 24,
   "id": "624a5c59-b823-45f6-99ff-7a273d99e8f3",
   "metadata": {
    "tags": []
   },
   "outputs": [
    {
     "data": {
      "text/plain": [
       "prname                          Quebec\n",
       "date               2020-12-26 00:00:00\n",
       "reporting_week                      52\n",
       "totalcases                      186323\n",
       "ratecases_total                2142.71\n",
       "numdeaths                         7662\n",
       "ratedeaths                       88.11\n",
       "year                              2020\n",
       "month                               12\n",
       "Name: 710, dtype: object"
      ]
     },
     "execution_count": 24,
     "metadata": {},
     "output_type": "execute_result"
    }
   ],
   "source": [
    "# 12. Day with highest number of COVID-19 deaths for Quebec in 2020\n",
    "\n",
    "# Create a 'year' column\n",
    "df['year'] = df['date'].dt.year\n",
    "\n",
    "# Filter the dataset for Quebec in 2020\n",
    "quebec_2020 = df[(df['prname'] == 'Quebec') & (df['year'] == 2020)]\n",
    "\n",
    "# Find the day with the highest number of COVID-19 deaths\n",
    "day_with_highest_deaths = quebec_2020.loc[quebec_2020['numdeaths'].idxmax()]\n",
    "\n",
    "day_with_highest_deaths"
   ]
  },
  {
   "cell_type": "markdown",
   "id": "22bdcb34-8e75-46ee-a203-8f7cce450ec4",
   "metadata": {},
   "source": [
    "The End!"
   ]
  }
 ],
 "metadata": {
  "kernelspec": {
   "display_name": "Python 3 (ipykernel)",
   "language": "python",
   "name": "python3"
  },
  "language_info": {
   "codemirror_mode": {
    "name": "ipython",
    "version": 3
   },
   "file_extension": ".py",
   "mimetype": "text/x-python",
   "name": "python",
   "nbconvert_exporter": "python",
   "pygments_lexer": "ipython3",
   "version": "3.11.4"
  }
 },
 "nbformat": 4,
 "nbformat_minor": 5
}
