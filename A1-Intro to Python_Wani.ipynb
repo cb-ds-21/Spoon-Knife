{
 "cells": [
  {
   "cell_type": "markdown",
   "id": "c86aa4af",
   "metadata": {},
   "source": [
    "# Assignment 1 - Intro to Python\n",
    "___"
   ]
  },
  {
   "cell_type": "markdown",
   "id": "628da81f",
   "metadata": {},
   "source": [
    "## Exercise 1: Basics"
   ]
  },
  {
   "cell_type": "markdown",
   "id": "d14a81c5",
   "metadata": {},
   "source": [
    "### 1.1 \n",
    "\n",
    "Convert the cell below into a markdown cell with the following content:\n",
    "\n",
    "- A level 3 header titled \"Markdown Cell\"\n",
    "- The following text: \"This is a markdown cell\"\n",
    "- The following text in bold: \"This is bold text\"\n",
    "- The following text in italics: \"This text is italicized\""
   ]
  },
  {
   "cell_type": "code",
   "execution_count": 1,
   "id": "4c7300e5",
   "metadata": {},
   "outputs": [],
   "source": [
    "# 1.1 Answer\n",
    "# Here is how you create a level-3 header title with "
   ]
  },
  {
   "cell_type": "markdown",
   "id": "7d47cf6e",
   "metadata": {},
   "source": [
    "### Markdown Cell"
   ]
  },
  {
   "cell_type": "code",
   "execution_count": 2,
   "id": "e2ca842a",
   "metadata": {},
   "outputs": [],
   "source": [
    "# Here I used ** in the markdown cell"
   ]
  },
  {
   "cell_type": "markdown",
   "id": "74af97d5",
   "metadata": {},
   "source": [
    "**This is a markdown cell**"
   ]
  },
  {
   "cell_type": "code",
   "execution_count": 3,
   "id": "784a1f0d",
   "metadata": {},
   "outputs": [],
   "source": [
    "# Here I used * in the markdown cell"
   ]
  },
  {
   "cell_type": "markdown",
   "id": "d23fc0e5",
   "metadata": {},
   "source": [
    "*This text is italicized*"
   ]
  },
  {
   "cell_type": "markdown",
   "id": "9821fe72",
   "metadata": {},
   "source": [
    "### 1.2\n",
    "\n",
    "What's the difference between a local and a global variable in Python? \n",
    "Use a multiline comment in the cell below for your answer."
   ]
  },
  {
   "cell_type": "code",
   "execution_count": 5,
   "id": "5ccb4b2f",
   "metadata": {},
   "outputs": [
    {
     "data": {
      "text/plain": [
       "'\\nThe main differences between a local and global variable is where a variable can be accessed or modified in the program.\\n\\nA global variable is found outside of any function and is accessible throughout the program. \\n\\nA local variable is found inside a function and is only used within that function.\\n\\nFor example (Note: This code is not real, it shows the concepts):\\n\\nx = 10  # This is a global variable\\n\\ndef some_function():\\n    do something with x in a function\\n    return something with x = 20  # This is a local variable, which changes the global variable\\n   \\n   print(x)  # The output is 20, not the 10 for x\\n\\n'"
      ]
     },
     "execution_count": 5,
     "metadata": {},
     "output_type": "execute_result"
    }
   ],
   "source": [
    "# 1.2 Answer\n",
    "\"\"\"\n",
    "The main differences between a local and global variable is where a variable can be accessed or modified in the program.\n",
    "\n",
    "A global variable is found outside of any function and is accessible throughout the program. \n",
    "\n",
    "A local variable is found inside a function and is only used within that function.\n",
    "\n",
    "For example (Note: This code is not real, it shows the concepts):\n",
    "\n",
    "x = 10  # This is a global variable\n",
    "\n",
    "def some_function():\n",
    "    do something with x in a function\n",
    "    return something with x = 20  # This is a local variable, which changes the global variable\n",
    "   \n",
    "   print(x)  # The output is 20, not the 10 for x\n",
    "\n",
    "\"\"\""
   ]
  },
  {
   "cell_type": "markdown",
   "id": "b4014a08",
   "metadata": {},
   "source": [
    "### 1.3\n",
    "\n",
    "Correct the following variable names following Python variable naming convention."
   ]
  },
  {
   "cell_type": "code",
   "execution_count": 2,
   "id": "7f6ec8ef",
   "metadata": {},
   "outputs": [],
   "source": [
    "# 1.3.1\n",
    "\n",
    "lst_variable = 'Hello'"
   ]
  },
  {
   "cell_type": "code",
   "execution_count": 7,
   "id": "752632e5",
   "metadata": {},
   "outputs": [
    {
     "data": {
      "text/plain": [
       "'Hello'"
      ]
     },
     "execution_count": 7,
     "metadata": {},
     "output_type": "execute_result"
    }
   ],
   "source": [
    "# 1.3.1 Answer\n",
    "first_variable = 'Hello'\n",
    "first_variable"
   ]
  },
  {
   "cell_type": "code",
   "execution_count": 8,
   "id": "a1c759f1",
   "metadata": {},
   "outputs": [
    {
     "data": {
      "text/plain": [
       "'5'"
      ]
     },
     "execution_count": 8,
     "metadata": {},
     "output_type": "execute_result"
    }
   ],
   "source": [
    "# 1.3.2\n",
    "\n",
    "My_VAR = '5'\n",
    "My_VAR # Even though this still works in Python, the convention is lowercase"
   ]
  },
  {
   "cell_type": "code",
   "execution_count": 9,
   "id": "867c3eb9",
   "metadata": {},
   "outputs": [
    {
     "data": {
      "text/plain": [
       "'5'"
      ]
     },
     "execution_count": 9,
     "metadata": {},
     "output_type": "execute_result"
    }
   ],
   "source": [
    "# 1.3.2 Answer\n",
    "my_var = '5'\n",
    "my_var"
   ]
  },
  {
   "cell_type": "markdown",
   "id": "ecedfba6",
   "metadata": {},
   "source": [
    "### 1.4\n",
    "\n",
    "Given the variables:\n",
    "\n",
    "    country = 'Canada'\n",
    "    city = 'Ottawa'\n",
    "\n",
    "Use the `format()` method to print the following string: \"**The capital of Canada is Ottawa**\""
   ]
  },
  {
   "cell_type": "code",
   "execution_count": 10,
   "id": "b43b4dca",
   "metadata": {},
   "outputs": [
    {
     "name": "stdout",
     "output_type": "stream",
     "text": [
      "The capital of Canada is Ottawa\n"
     ]
    }
   ],
   "source": [
    "# 1.4 Answer\n",
    "country = 'Canada'\n",
    "city = 'Ottawa'\n",
    "\n",
    "print(\"The capital of {} is {}\".format(country, city))"
   ]
  },
  {
   "cell_type": "markdown",
   "id": "38baaa0b",
   "metadata": {},
   "source": [
    "## Exercise 2: Python Data Types"
   ]
  },
  {
   "cell_type": "markdown",
   "id": "cc0b752f",
   "metadata": {},
   "source": [
    "### 2.1 \n",
    "\n",
    "Perform the following conversions:"
   ]
  },
  {
   "cell_type": "code",
   "execution_count": 11,
   "id": "836e7c8e",
   "metadata": {},
   "outputs": [],
   "source": [
    "# 2.1.1\n",
    "# Convert this string into an integer using the int() function\n",
    "\n",
    "s = '123'"
   ]
  },
  {
   "cell_type": "code",
   "execution_count": 12,
   "id": "bbbaed4f",
   "metadata": {},
   "outputs": [
    {
     "data": {
      "text/plain": [
       "'123'"
      ]
     },
     "execution_count": 12,
     "metadata": {},
     "output_type": "execute_result"
    }
   ],
   "source": [
    "# 2.1.1 Answer\n",
    "s = '123'\n",
    "i = str(s)\n",
    "i"
   ]
  },
  {
   "cell_type": "code",
   "execution_count": 13,
   "id": "f39db411",
   "metadata": {},
   "outputs": [],
   "source": [
    "# 2.1.2\n",
    "# Convert this number to a string using the str() function\n",
    "\n",
    "i = 456"
   ]
  },
  {
   "cell_type": "code",
   "execution_count": 14,
   "id": "51990c34",
   "metadata": {},
   "outputs": [
    {
     "data": {
      "text/plain": [
       "'456'"
      ]
     },
     "execution_count": 14,
     "metadata": {},
     "output_type": "execute_result"
    }
   ],
   "source": [
    "# 2.1.2 Answer\n",
    "\n",
    "i = 456\n",
    "i = str('456')\n",
    "i"
   ]
  },
  {
   "cell_type": "code",
   "execution_count": 15,
   "id": "37a93d08",
   "metadata": {},
   "outputs": [],
   "source": [
    "# 2.1.2 \n",
    "# Convert this float to an integer\n",
    "\n",
    "f = 3.14"
   ]
  },
  {
   "cell_type": "code",
   "execution_count": 16,
   "id": "d7bbe1ae",
   "metadata": {},
   "outputs": [
    {
     "data": {
      "text/plain": [
       "3"
      ]
     },
     "execution_count": 16,
     "metadata": {},
     "output_type": "execute_result"
    }
   ],
   "source": [
    "# 2.1.2 Answer\n",
    "\n",
    "f = 3.14\n",
    "i = int(f)\n",
    "i"
   ]
  },
  {
   "cell_type": "markdown",
   "id": "4d249c91",
   "metadata": {},
   "source": [
    "## Exercise 3: Data Containers"
   ]
  },
  {
   "cell_type": "markdown",
   "id": "930bca67",
   "metadata": {},
   "source": [
    "### 3.1\n",
    "\n",
    "Create a list called **my_list** that contains the numbers from 1-5"
   ]
  },
  {
   "cell_type": "code",
   "execution_count": 17,
   "id": "be85fffa",
   "metadata": {},
   "outputs": [
    {
     "data": {
      "text/plain": [
       "[5, 4, 3, 2, 1]"
      ]
     },
     "execution_count": 17,
     "metadata": {},
     "output_type": "execute_result"
    }
   ],
   "source": [
    "# 3.1 Answer\n",
    "\n",
    "my_list = [5, 4, 3, 2, 1]\n",
    "my_list"
   ]
  },
  {
   "cell_type": "markdown",
   "id": "7db28209",
   "metadata": {},
   "source": [
    "### 3.2\n",
    "\n",
    "Use negative indexing to access the last element in **my_list**."
   ]
  },
  {
   "cell_type": "code",
   "execution_count": 18,
   "id": "3bcb7576",
   "metadata": {},
   "outputs": [
    {
     "data": {
      "text/plain": [
       "1"
      ]
     },
     "execution_count": 18,
     "metadata": {},
     "output_type": "execute_result"
    }
   ],
   "source": [
    "# 3.2 Answer\n",
    "last_element = my_list[-1]\n",
    "last_element"
   ]
  },
  {
   "cell_type": "markdown",
   "id": "1459bcfd",
   "metadata": {},
   "source": [
    "### 3.3\n",
    "\n",
    "Create another list called **new_list** that contains 3 negative numbers only."
   ]
  },
  {
   "cell_type": "code",
   "execution_count": 19,
   "id": "c7cdcf4b",
   "metadata": {},
   "outputs": [],
   "source": [
    "# 3.3 Answer\n",
    "new_list = [-1, -2, -3]"
   ]
  },
  {
   "cell_type": "markdown",
   "id": "9a683f29",
   "metadata": {},
   "source": [
    "### 3.4\n",
    "\n",
    "Append the second element of **new_list** to **my_list**, then print the updated **my_list**."
   ]
  },
  {
   "cell_type": "code",
   "execution_count": 20,
   "id": "142ce2a5",
   "metadata": {},
   "outputs": [
    {
     "name": "stdout",
     "output_type": "stream",
     "text": [
      "[5, 4, 3, 2, 1, -2]\n"
     ]
    }
   ],
   "source": [
    "# 3.4 Answer\n",
    "my_list.append(new_list[1])\n",
    "print(my_list)"
   ]
  },
  {
   "cell_type": "markdown",
   "id": "4e0548d6",
   "metadata": {},
   "source": [
    "### 3.5\n",
    "\n",
    "Create a dictionary with the following keys, 'Name', 'Year', 'Music' and 'Food'. The values associated with each key (in order) should be your name, the current year, you favourite genre of music and one of your favourite foods. \n",
    "\n",
    "Name the dictionary **my_dict** and print it. "
   ]
  },
  {
   "cell_type": "code",
   "execution_count": 21,
   "id": "69fb4235",
   "metadata": {},
   "outputs": [],
   "source": [
    "# 3.5 Answer\n",
    "my_dict = {'Name': 'Milton', 'Year': 2024, 'Music': 'Folk', 'Food': 'Indian'}"
   ]
  },
  {
   "cell_type": "markdown",
   "id": "6d5942e6",
   "metadata": {},
   "source": [
    "### 3.6\n",
    "\n",
    "Replace the value associated with 'Food' to another one of your favourite foods.\n",
    "Print the updated dictionary."
   ]
  },
  {
   "cell_type": "code",
   "execution_count": 22,
   "id": "7dad74e9",
   "metadata": {},
   "outputs": [
    {
     "data": {
      "text/plain": [
       "{'Name': 'Milton', 'Year': 2024, 'Music': 'Folktronica', 'Food': 'Candy'}"
      ]
     },
     "execution_count": 22,
     "metadata": {},
     "output_type": "execute_result"
    }
   ],
   "source": [
    "# 3.6 Answer\n",
    "my_dict[\"Food\"] = \"Candy\"\n",
    "my_dict"
   ]
  },
  {
   "cell_type": "markdown",
   "id": "4ffc85dd",
   "metadata": {},
   "source": [
    "### 3.7\n",
    "\n",
    "Given this nested dictionary, grab the word \"YES\"."
   ]
  },
  {
   "cell_type": "code",
   "execution_count": 23,
   "id": "82430263",
   "metadata": {},
   "outputs": [
    {
     "data": {
      "text/plain": [
       "{'key': [634,\n",
       "  11,\n",
       "  9892,\n",
       "  {'another key': ['more', 'values', 'here', {'target': [9, 8, 7, 'YES']}]}]}"
      ]
     },
     "execution_count": 23,
     "metadata": {},
     "output_type": "execute_result"
    }
   ],
   "source": [
    "d = {'key':[634,11,9892,{'another key':['more','values','here',{'target':[9,8,7,'YES']}]}]}\n",
    "d"
   ]
  },
  {
   "cell_type": "code",
   "execution_count": 24,
   "id": "2cc780f4",
   "metadata": {},
   "outputs": [
    {
     "name": "stdout",
     "output_type": "stream",
     "text": [
      "YES\n"
     ]
    }
   ],
   "source": [
    "# 3.7 Answer\n",
    "# Navigate through three nested structure to grab \"YES\"\n",
    "grab_yes = d['key'][3]['another key'][3]['target'][3]\n",
    "print(grab_yes)"
   ]
  },
  {
   "cell_type": "markdown",
   "id": "99b11025",
   "metadata": {},
   "source": [
    "### 3.8\n",
    "\n",
    "What is the difference between a tuple and a set?"
   ]
  },
  {
   "cell_type": "code",
   "execution_count": null,
   "id": "39fe046d",
   "metadata": {},
   "outputs": [],
   "source": [
    "# 3.8 Answer\n",
    "\n",
    "# Aside from syntax, (Tuples) are ordered, immutable, indexable, and allow for duplicate elements.\n",
    "# Whereas {sets} are unordered, mutable, not indexable, and do not allow duplicate elements."
   ]
  },
  {
   "cell_type": "markdown",
   "id": "f3521cec-02bd-40fa-8160-85fbb3c54778",
   "metadata": {},
   "source": [
    "### 3.9\n",
    "\n",
    "Given the following list:\n",
    "\n",
    "`l = [1,2,3,1]`\n",
    "\n",
    "Convert it to a list with unique values only. "
   ]
  },
  {
   "cell_type": "code",
   "execution_count": 3,
   "id": "be9822e7-f0f3-42b4-9568-43f94c30437c",
   "metadata": {},
   "outputs": [
    {
     "data": {
      "text/plain": [
       "[1, 2, 3]"
      ]
     },
     "execution_count": 3,
     "metadata": {},
     "output_type": "execute_result"
    }
   ],
   "source": [
    "# 3.9 Answer\n",
    "l = [1,2,3,1]\n",
    "new_l = list(set(l))\n",
    "new_l"
   ]
  },
  {
   "cell_type": "markdown",
   "id": "ab89e99f",
   "metadata": {
    "tags": []
   },
   "source": [
    "## Exercise 4: Python Operators"
   ]
  },
  {
   "cell_type": "markdown",
   "id": "e805e355",
   "metadata": {},
   "source": [
    "### 4.1\n",
    "\n",
    "Perform the follwoing arithmetic operation: (5+3) x 2"
   ]
  },
  {
   "cell_type": "code",
   "execution_count": 29,
   "id": "09fe76b0",
   "metadata": {},
   "outputs": [
    {
     "data": {
      "text/plain": [
       "16"
      ]
     },
     "execution_count": 29,
     "metadata": {},
     "output_type": "execute_result"
    }
   ],
   "source": [
    "# 4.1 Answer\n",
    "calculation_1 = (5+3) * 2\n",
    "calculation_1"
   ]
  },
  {
   "cell_type": "code",
   "execution_count": 31,
   "id": "178b372f",
   "metadata": {},
   "outputs": [
    {
     "data": {
      "text/plain": [
       "5"
      ]
     },
     "execution_count": 31,
     "metadata": {},
     "output_type": "execute_result"
    }
   ],
   "source": [
    "x = 10//2\n",
    "x"
   ]
  },
  {
   "cell_type": "markdown",
   "id": "796ce86e",
   "metadata": {
    "tags": []
   },
   "source": [
    "### 4.2\n",
    "\n",
    "Explain the difference between `/` and `//` division operators in Python"
   ]
  },
  {
   "cell_type": "code",
   "execution_count": 6,
   "id": "ca416e34",
   "metadata": {},
   "outputs": [
    {
     "data": {
      "text/plain": [
       "2"
      ]
     },
     "execution_count": 6,
     "metadata": {},
     "output_type": "execute_result"
    }
   ],
   "source": [
    "# 4.2 Answer\n",
    "# / divides numbers \n",
    "# for example: 5/2 = 2.5 as a float (and always includes a decimal)\n",
    "# // division operator returns an integer  rounding down to the nearest whole number\n",
    "# for example: 5//2 has a remainder of 2\n",
    "x = 7//3\n",
    "x"
   ]
  },
  {
   "cell_type": "markdown",
   "id": "c8063453",
   "metadata": {},
   "source": [
    "### 4.3\n",
    "\n",
    "What is the result of 7%3?"
   ]
  },
  {
   "cell_type": "code",
   "execution_count": 32,
   "id": "2de8a10c",
   "metadata": {},
   "outputs": [
    {
     "data": {
      "text/plain": [
       "1"
      ]
     },
     "execution_count": 32,
     "metadata": {},
     "output_type": "execute_result"
    }
   ],
   "source": [
    "# 4.3\n",
    "# My first guess without checking was: 2\n",
    "x = 7%3\n",
    "x\n",
    "# I can see the error, I was still thinking in terms of // . \n",
    "# I see now how % works (as a remainder to help when we need to find Odd or Even numbers)"
   ]
  },
  {
   "cell_type": "markdown",
   "id": "d5b8ccfe",
   "metadata": {},
   "source": [
    "### 4.4\n",
    "\n",
    "Use the `in` operator to check whether the number 3 and the number 7 are in the following list:"
   ]
  },
  {
   "cell_type": "code",
   "execution_count": 33,
   "id": "2b893e14",
   "metadata": {},
   "outputs": [],
   "source": [
    "lst = [1,2,3,4,5]"
   ]
  },
  {
   "cell_type": "code",
   "execution_count": 36,
   "id": "8ce175d0",
   "metadata": {},
   "outputs": [
    {
     "name": "stdout",
     "output_type": "stream",
     "text": [
      "Yes, there is a 3 in the list.\n"
     ]
    }
   ],
   "source": [
    "# 4.4 Answer (Don't forget to print your results)\n",
    "if 3 in lst:\n",
    "    print(\"Yes, there is a 3 in the list.\")\n",
    "elif 7 in lst:\n",
    "    print(\"Yes, there is a 7 in the list.\")\n",
    "else:\n",
    "    print(\"No, the 3 and 7 are not in this list.\")"
   ]
  },
  {
   "cell_type": "markdown",
   "id": "70df4331",
   "metadata": {},
   "source": [
    "### 4.5\n",
    "\n",
    "Explain the difference between `=` and `==` using the following two variables:"
   ]
  },
  {
   "cell_type": "code",
   "execution_count": 38,
   "id": "67aed188",
   "metadata": {},
   "outputs": [],
   "source": [
    "x = 5\n",
    "y = 10"
   ]
  },
  {
   "cell_type": "code",
   "execution_count": 39,
   "id": "a183b54b",
   "metadata": {},
   "outputs": [
    {
     "name": "stdout",
     "output_type": "stream",
     "text": [
      "15\n"
     ]
    }
   ],
   "source": [
    "# 4.5 Answer\n",
    "\n",
    "# = operator assigns a value to a variable\n",
    "print(x + y)"
   ]
  },
  {
   "cell_type": "code",
   "execution_count": 40,
   "id": "7b277efd",
   "metadata": {},
   "outputs": [
    {
     "name": "stdout",
     "output_type": "stream",
     "text": [
      "False\n"
     ]
    }
   ],
   "source": [
    "# == operator compares to values for boolean (True vs. False) statements\n",
    "print(x == y)"
   ]
  },
  {
   "cell_type": "code",
   "execution_count": 41,
   "id": "9d0a62a9",
   "metadata": {},
   "outputs": [
    {
     "name": "stdout",
     "output_type": "stream",
     "text": [
      "True\n"
     ]
    }
   ],
   "source": [
    "y = 5\n",
    "print(x == y)"
   ]
  },
  {
   "cell_type": "markdown",
   "id": "bc33b830-9708-48e2-a397-712f4ddad816",
   "metadata": {},
   "source": [
    "# The End!"
   ]
  }
 ],
 "metadata": {
  "kernelspec": {
   "display_name": "Python 3 (ipykernel)",
   "language": "python",
   "name": "python3"
  },
  "language_info": {
   "codemirror_mode": {
    "name": "ipython",
    "version": 3
   },
   "file_extension": ".py",
   "mimetype": "text/x-python",
   "name": "python",
   "nbconvert_exporter": "python",
   "pygments_lexer": "ipython3",
   "version": "3.11.4"
  }
 },
 "nbformat": 4,
 "nbformat_minor": 5
}
