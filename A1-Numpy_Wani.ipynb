{
 "cells": [
  {
   "cell_type": "markdown",
   "id": "068b15fd-f85c-4bbc-bfd5-f6d970383427",
   "metadata": {},
   "source": [
    "# Assignment 1 - NumPy\n",
    "---"
   ]
  },
  {
   "cell_type": "markdown",
   "id": "16b56db7-c3b5-43c7-a03b-31cc09cc3a92",
   "metadata": {},
   "source": [
    "## Exercise 1: Array Creation\n",
    "\n",
    "**You can only use NumPy's built-in array creation methods to answer the below questions.**"
   ]
  },
  {
   "cell_type": "markdown",
   "id": "f56d3035-6d8c-4907-81c0-cb24390a07b3",
   "metadata": {},
   "source": [
    "### 1.1\n",
    "\n",
    "Import NumPY."
   ]
  },
  {
   "cell_type": "code",
   "execution_count": 1,
   "id": "f1ba087e-d62b-41a7-a842-3b2b10e4c038",
   "metadata": {
    "tags": []
   },
   "outputs": [],
   "source": [
    "# 1.1 Answer\n",
    "import numpy as np"
   ]
  },
  {
   "cell_type": "markdown",
   "id": "50d1dc49-23e9-4977-b1d4-ab5c8c076b3f",
   "metadata": {},
   "source": [
    "### 1.2\n",
    "\n",
    "Create a 1D array of ODD numbers between 1 and 15 (inclusive)."
   ]
  },
  {
   "cell_type": "code",
   "execution_count": 2,
   "id": "aafe858b-d2ef-4e72-a354-2bddea24ed5e",
   "metadata": {
    "tags": []
   },
   "outputs": [
    {
     "name": "stdout",
     "output_type": "stream",
     "text": [
      "[ 1  3  5  7  9 11 13 15]\n"
     ]
    }
   ],
   "source": [
    "# 1.2 Answer\n",
    "odd_numbers = np.arange(1, 16, 2)\n",
    "print(odd_numbers)"
   ]
  },
  {
   "cell_type": "markdown",
   "id": "75ec5afc-3b6e-426a-a4a9-6af2ae61a08b",
   "metadata": {},
   "source": [
    "### 1.2\n",
    "\n",
    "Create a 1D array of EVEN numbers between 0 and -20 (inclusive)."
   ]
  },
  {
   "cell_type": "code",
   "execution_count": 3,
   "id": "167ac3e2-8aae-462f-92b6-13d08880665a",
   "metadata": {
    "tags": []
   },
   "outputs": [
    {
     "name": "stdout",
     "output_type": "stream",
     "text": [
      "[  0  -2  -4  -6  -8 -10 -12 -14 -16 -18 -20]\n"
     ]
    }
   ],
   "source": [
    "# 1.2 Answer\n",
    "even_numbers = np.arange(0, -21, -2)\n",
    "print(even_numbers)"
   ]
  },
  {
   "cell_type": "markdown",
   "id": "51846a12-fa4a-432f-aae4-1ea395985472",
   "metadata": {},
   "source": [
    "### 1.3\n",
    "\n",
    "Create an array of 7 ones. Make sure all the elements are integers, not floats."
   ]
  },
  {
   "cell_type": "code",
   "execution_count": 4,
   "id": "b942dee3-9f1d-4480-a12e-b8cc69f19ddd",
   "metadata": {
    "tags": []
   },
   "outputs": [
    {
     "data": {
      "text/plain": [
       "array([1, 1, 1, 1, 1, 1, 1])"
      ]
     },
     "execution_count": 4,
     "metadata": {},
     "output_type": "execute_result"
    }
   ],
   "source": [
    "# 1.3 Answer\n",
    "seven_ones = np.ones(7, dtype=int)\n",
    "seven_ones"
   ]
  },
  {
   "cell_type": "markdown",
   "id": "c7e0aa17-2d90-4ddf-a844-de48d68f2931",
   "metadata": {},
   "source": [
    "### 1.4\n",
    "\n",
    "Create an array of 7 eights. Make sure all the elements are integers, not floats."
   ]
  },
  {
   "cell_type": "code",
   "execution_count": 5,
   "id": "16ddc9e0-58ec-480a-86ad-b357e62d5753",
   "metadata": {
    "tags": []
   },
   "outputs": [
    {
     "data": {
      "text/plain": [
       "array([8, 8, 8, 8, 8, 8, 8])"
      ]
     },
     "execution_count": 5,
     "metadata": {},
     "output_type": "execute_result"
    }
   ],
   "source": [
    "# 1.4 Answer\n",
    "seven_eights = 8 * np.ones(7, dtype=int)\n",
    "seven_eights"
   ]
  },
  {
   "cell_type": "markdown",
   "id": "7370bdd1-af2c-4608-a96e-3638449a0dad",
   "metadata": {},
   "source": [
    "### 1.5\n",
    "\n",
    "Create a 2D array of integers from -5 to -50. "
   ]
  },
  {
   "cell_type": "code",
   "execution_count": 6,
   "id": "e513d53b-0430-4241-9ac2-2dcb67bd8c4f",
   "metadata": {
    "tags": []
   },
   "outputs": [],
   "source": [
    "# 1.5 Answer\n",
    "# Start by creating an array of integers\n",
    "array_1d = np.arange(-5, -51, -1)"
   ]
  },
  {
   "cell_type": "code",
   "execution_count": 9,
   "id": "e680226a",
   "metadata": {},
   "outputs": [
    {
     "ename": "ValueError",
     "evalue": "cannot reshape array of size 46 into shape (6,9)",
     "output_type": "error",
     "traceback": [
      "\u001b[1;31m---------------------------------------------------------------------------\u001b[0m",
      "\u001b[1;31mValueError\u001b[0m                                Traceback (most recent call last)",
      "Cell \u001b[1;32mIn[9], line 2\u001b[0m\n\u001b[0;32m      1\u001b[0m \u001b[38;5;66;03m# Reshape the 1D array into a 2D array\u001b[39;00m\n\u001b[1;32m----> 2\u001b[0m array_2d \u001b[38;5;241m=\u001b[39m array_1d\u001b[38;5;241m.\u001b[39mreshape(\u001b[38;5;241m6\u001b[39m, \u001b[38;5;241m9\u001b[39m)\n\u001b[0;32m      4\u001b[0m array_2d\n",
      "\u001b[1;31mValueError\u001b[0m: cannot reshape array of size 46 into shape (6,9)"
     ]
    }
   ],
   "source": [
    "# Reshape the 1D array into a 2D array\n",
    "array_2d = array_1d.reshape(6, 9)\n",
    "\n",
    "array_2d"
   ]
  },
  {
   "cell_type": "markdown",
   "id": "fdc01230-2563-4384-a40f-4fe1c1799904",
   "metadata": {},
   "source": [
    "### 1.6\n",
    "\n",
    "Create an array of 5 random numbers between 0 and 1."
   ]
  },
  {
   "cell_type": "code",
   "execution_count": 8,
   "id": "9ee4b243-6aba-435e-9ed2-993429bd202c",
   "metadata": {
    "tags": []
   },
   "outputs": [
    {
     "data": {
      "text/plain": [
       "array([0.05856811, 0.34632759, 0.8148523 , 0.15527462, 0.87061513])"
      ]
     },
     "execution_count": 8,
     "metadata": {},
     "output_type": "execute_result"
    }
   ],
   "source": [
    "# 1.6\n",
    "np.random.random(5)"
   ]
  },
  {
   "cell_type": "markdown",
   "id": "4cd26afa-5184-429f-a29f-e3b54d9f39d5",
   "metadata": {
    "tags": []
   },
   "source": [
    "### 1.7\n",
    "\n",
    "Create an array of 30 random numbers from a standard normal distribution."
   ]
  },
  {
   "cell_type": "code",
   "execution_count": 12,
   "id": "4dd9b5af-b6e1-402d-b5e5-28343cbf7962",
   "metadata": {
    "tags": []
   },
   "outputs": [
    {
     "data": {
      "text/plain": [
       "array([ 0.37453492,  0.10338728,  0.81612688, -0.67375682,  0.2208861 ,\n",
       "        1.3012772 , -0.14320511,  0.31916627, -0.02395561, -0.20814769,\n",
       "        0.18967467, -0.08266843, -0.1186324 ,  1.62508878, -0.97431419,\n",
       "        1.08105881,  0.94090491, -2.4687278 ,  0.93904826,  0.24897068,\n",
       "       -0.15591865, -0.67156588, -0.2030819 , -0.65754392,  1.37810051,\n",
       "       -1.27234415,  0.14202321, -0.67263364,  1.20736203,  0.28498673])"
      ]
     },
     "execution_count": 12,
     "metadata": {},
     "output_type": "execute_result"
    }
   ],
   "source": [
    "# 1.7\n",
    "np.random.randn(30)"
   ]
  },
  {
   "cell_type": "markdown",
   "id": "88cd325a-ad9f-4e58-8d7a-f45cb733fb20",
   "metadata": {
    "tags": []
   },
   "source": [
    "### 1.8\n",
    "\n",
    "Recreate the following array:\n",
    "\n",
    "    array([[[ 1,  2,  3],\n",
    "            [ 4,  5,  6],\n",
    "            [ 7,  8,  9]],\n",
    "\n",
    "           [[10, 11, 12],\n",
    "            [13, 14, 15],\n",
    "            [16, 17, 18]]])\n"
   ]
  },
  {
   "cell_type": "code",
   "execution_count": 13,
   "id": "b77ca5af-352c-4449-84b5-8d58a5114b95",
   "metadata": {
    "tags": []
   },
   "outputs": [
    {
     "data": {
      "text/plain": [
       "[[[1, 2, 3], [4, 5, 6], [7, 8, 9]], [[10, 11, 12], [13, 14, 15], [16, 17, 18]]]"
      ]
     },
     "execution_count": 13,
     "metadata": {},
     "output_type": "execute_result"
    }
   ],
   "source": [
    "# 1.8 Answer\n",
    "nested_list = [[[1, 2, 3], [4, 5, 6], [7, 8, 9]], [[10, 11, 12],[13, 14, 15], [16, 17, 18]]]\n",
    "nested_list       "
   ]
  },
  {
   "cell_type": "code",
   "execution_count": 14,
   "id": "d9f7dcbb",
   "metadata": {},
   "outputs": [
    {
     "data": {
      "text/plain": [
       "array([[[ 1,  2,  3],\n",
       "        [ 4,  5,  6],\n",
       "        [ 7,  8,  9]],\n",
       "\n",
       "       [[10, 11, 12],\n",
       "        [13, 14, 15],\n",
       "        [16, 17, 18]]])"
      ]
     },
     "execution_count": 14,
     "metadata": {},
     "output_type": "execute_result"
    }
   ],
   "source": [
    "# 2D array with 3 rows and 3 columns\n",
    "\n",
    "np.array(nested_list)"
   ]
  },
  {
   "cell_type": "markdown",
   "id": "dbd7f869-a787-4288-b60f-002e9eed6434",
   "metadata": {
    "tags": []
   },
   "source": [
    "### 1.9 \n",
    "\n",
    "Create an array of 8 evenly spaced numbers between 0 and 1 (inclusive)."
   ]
  },
  {
   "cell_type": "code",
   "execution_count": 15,
   "id": "4e24942c-491b-4876-99bb-746f8a3af6ae",
   "metadata": {
    "tags": []
   },
   "outputs": [
    {
     "data": {
      "text/plain": [
       "array([0.        , 0.14285714, 0.28571429, 0.42857143, 0.57142857,\n",
       "       0.71428571, 0.85714286, 1.        ])"
      ]
     },
     "execution_count": 15,
     "metadata": {},
     "output_type": "execute_result"
    }
   ],
   "source": [
    "# 1.9 Answer\n",
    "# Returns a specified number of evenly spaced values in a given range. \n",
    "np.linspace(0,1,8)"
   ]
  },
  {
   "cell_type": "markdown",
   "id": "17244592-81f9-4e4a-ac76-3b1cab92503b",
   "metadata": {},
   "source": [
    "## Exercise 2: Indexing and Selection\n",
    "\n",
    "**Make sure your run the below cell. This is the array you will be working with.**"
   ]
  },
  {
   "cell_type": "code",
   "execution_count": 16,
   "id": "3075d26e-0f83-4e91-8b8c-7d083c5d8174",
   "metadata": {
    "tags": []
   },
   "outputs": [
    {
     "data": {
      "text/plain": [
       "array([[ 1,  2,  3,  4,  5],\n",
       "       [ 6,  7,  8,  9, 10],\n",
       "       [11, 12, 13, 14, 15],\n",
       "       [16, 17, 18, 19, 20],\n",
       "       [21, 22, 23, 24, 25],\n",
       "       [26, 27, 28, 29, 30]])"
      ]
     },
     "execution_count": 16,
     "metadata": {},
     "output_type": "execute_result"
    }
   ],
   "source": [
    "arr = np.arange(1,31).reshape(6,5)\n",
    "arr"
   ]
  },
  {
   "cell_type": "markdown",
   "id": "dc5cd201-285f-43b4-80cf-d20ef658f20c",
   "metadata": {
    "tags": []
   },
   "source": [
    "### 2.1\n",
    "\n",
    "Select the numbers 29 and 30 from the array.\n",
    "\n",
    "Your output should look like this:\n",
    "    \n",
    "    array([29, 30])"
   ]
  },
  {
   "cell_type": "code",
   "execution_count": 17,
   "id": "df7318de-f123-45b2-8f05-a1d616056a31",
   "metadata": {
    "tags": []
   },
   "outputs": [
    {
     "data": {
      "text/plain": [
       "array([29, 30])"
      ]
     },
     "execution_count": 17,
     "metadata": {},
     "output_type": "execute_result"
    }
   ],
   "source": [
    "# 2.1 Answer\n",
    "arr[-1,-2:]"
   ]
  },
  {
   "cell_type": "markdown",
   "id": "f371e3a9-4255-4c0e-8fa6-3b21d837ec4a",
   "metadata": {},
   "source": [
    "### 2.2\n",
    "\n",
    "Select the number 13 from the array."
   ]
  },
  {
   "cell_type": "code",
   "execution_count": 18,
   "id": "21a53fad-25b4-4c4f-9c92-22dbb92f0118",
   "metadata": {
    "tags": []
   },
   "outputs": [
    {
     "data": {
      "text/plain": [
       "13"
      ]
     },
     "execution_count": 18,
     "metadata": {},
     "output_type": "execute_result"
    }
   ],
   "source": [
    "# 2.2 Answer\n",
    "arr[2,2]"
   ]
  },
  {
   "cell_type": "markdown",
   "id": "15536acd-2754-41a9-93ef-57dcef9c8ca8",
   "metadata": {},
   "source": [
    "### 2.3\n",
    "\n",
    "Select the numbers 14, 19, and 24 from the array.\n",
    "\n",
    "Your output should look like this:\n",
    "\n",
    "    array([[14],\n",
    "           [19],\n",
    "           [24]])"
   ]
  },
  {
   "cell_type": "code",
   "execution_count": 19,
   "id": "b7e7ff57-2de0-4e24-8b34-f68b51a9af4b",
   "metadata": {
    "tags": []
   },
   "outputs": [
    {
     "data": {
      "text/plain": [
       "array([[14],\n",
       "       [19],\n",
       "       [24]])"
      ]
     },
     "execution_count": 19,
     "metadata": {},
     "output_type": "execute_result"
    }
   ],
   "source": [
    "# 2.3 Answer\n",
    "arr[2:5,3:4]"
   ]
  },
  {
   "cell_type": "markdown",
   "id": "7bbf4310-d6f0-4d74-a0e3-3600e5ea7079",
   "metadata": {},
   "source": [
    "### 2.4\n",
    "\n",
    "Write a code that produces the following output:\n",
    "\n",
    "    array([[21, 22, 23, 24, 25],\n",
    "           [26, 27, 28, 29, 30]])"
   ]
  },
  {
   "cell_type": "code",
   "execution_count": 20,
   "id": "3805350b-16e4-4fe7-8242-fe9341f2917a",
   "metadata": {
    "tags": []
   },
   "outputs": [
    {
     "data": {
      "text/plain": [
       "array([[21, 22, 23, 24, 25],\n",
       "       [26, 27, 28, 29, 30]])"
      ]
     },
     "execution_count": 20,
     "metadata": {},
     "output_type": "execute_result"
    }
   ],
   "source": [
    "# 2.4 Answer\n",
    "arr[4:6, 0:6]"
   ]
  },
  {
   "cell_type": "markdown",
   "id": "ad7c163a-785a-4e16-80f4-e57619c0e85a",
   "metadata": {},
   "source": [
    "### 2.5\n",
    "\n",
    "Write a code that produces the following output:\n",
    "\n",
    "    array([[ 3,  4],\n",
    "           [ 8,  9],\n",
    "           [13, 14],\n",
    "           [18, 19],\n",
    "           [23, 24],\n",
    "           [28, 29]])"
   ]
  },
  {
   "cell_type": "code",
   "execution_count": 21,
   "id": "1904bd9e-73fe-4437-a6f6-ffc68ebdff3d",
   "metadata": {
    "tags": []
   },
   "outputs": [
    {
     "data": {
      "text/plain": [
       "array([[ 3,  4],\n",
       "       [ 8,  9],\n",
       "       [13, 14],\n",
       "       [18, 19],\n",
       "       [23, 24],\n",
       "       [28, 29]])"
      ]
     },
     "execution_count": 21,
     "metadata": {},
     "output_type": "execute_result"
    }
   ],
   "source": [
    "# 2.5 Answer\n",
    "arr[0:6,2:4]"
   ]
  },
  {
   "cell_type": "markdown",
   "id": "709a5868-6b32-4eb1-b2e4-65073a22a0ee",
   "metadata": {
    "tags": []
   },
   "source": [
    "## Exercise 3: More NumPy!\n",
    "\n",
    "**Make sure your run the below cell. This is the array you will be working with.**\n",
    "\n",
    "**You can only use NumPy's built-in array creation methods to answer the below questions.**"
   ]
  },
  {
   "cell_type": "code",
   "execution_count": 22,
   "id": "c0690cdb-8f6a-48a2-9c43-896359fcbffe",
   "metadata": {
    "tags": []
   },
   "outputs": [
    {
     "data": {
      "text/plain": [
       "array([[  5,  10,  15,  20],\n",
       "       [ 25,  30,  35,  40],\n",
       "       [ 45,  50,  55,  60],\n",
       "       [ 65,  70,  75,  80],\n",
       "       [ 85,  90,  95, 100]])"
      ]
     },
     "execution_count": 22,
     "metadata": {},
     "output_type": "execute_result"
    }
   ],
   "source": [
    "arr = np.arange(5,101,5).reshape(5,4)\n",
    "arr"
   ]
  },
  {
   "cell_type": "markdown",
   "id": "1a4f04bf-e881-404c-8fe8-161f301d59c5",
   "metadata": {},
   "source": [
    "### 3.1\n",
    "\n",
    "What is the sum of the values in arr?"
   ]
  },
  {
   "cell_type": "code",
   "execution_count": 23,
   "id": "151b7f24-0f9f-4b3d-9ef3-89396de3d499",
   "metadata": {
    "tags": []
   },
   "outputs": [
    {
     "data": {
      "text/plain": [
       "1050"
      ]
     },
     "execution_count": 23,
     "metadata": {},
     "output_type": "execute_result"
    }
   ],
   "source": [
    "# 3.1 Answer\n",
    "arr.sum()"
   ]
  },
  {
   "cell_type": "markdown",
   "id": "39cd0589-3265-420a-bf82-f84b09764b32",
   "metadata": {},
   "source": [
    "### 3.2\n",
    "\n",
    "What is the sum of values of each row in arr?"
   ]
  },
  {
   "cell_type": "code",
   "execution_count": 24,
   "id": "36d99487-f864-433b-9842-f54eb9db9096",
   "metadata": {
    "tags": []
   },
   "outputs": [
    {
     "data": {
      "text/plain": [
       "array([ 50, 130, 210, 290, 370])"
      ]
     },
     "execution_count": 24,
     "metadata": {},
     "output_type": "execute_result"
    }
   ],
   "source": [
    "# 3.2 Answer\n",
    "# Use axis=0 (columns) and axis=1 (rows)\n",
    "arr.sum(axis=1)"
   ]
  },
  {
   "cell_type": "markdown",
   "id": "8b835f38-510c-448d-be80-8baf4490a6bf",
   "metadata": {
    "tags": []
   },
   "source": [
    "### 3.3\n",
    "\n",
    "What is the min value in each column?"
   ]
  },
  {
   "cell_type": "code",
   "execution_count": 25,
   "id": "41814528-ba81-409a-8bd8-bd5636a5445f",
   "metadata": {
    "tags": []
   },
   "outputs": [
    {
     "data": {
      "text/plain": [
       "array([ 5, 10, 15, 20])"
      ]
     },
     "execution_count": 25,
     "metadata": {},
     "output_type": "execute_result"
    }
   ],
   "source": [
    "# 3.3 Answer\n",
    "arr.min(axis=0)"
   ]
  },
  {
   "cell_type": "markdown",
   "id": "2c4c584b-f585-4b5b-a999-b12ee0f1b33b",
   "metadata": {},
   "source": [
    "### 3.4\n",
    "\n",
    "Convert the rows in arr into columns, and the columns into rows.\n",
    "\n",
    "Hint: Your new array should have a different shape."
   ]
  },
  {
   "cell_type": "code",
   "execution_count": 26,
   "id": "0c086304",
   "metadata": {},
   "outputs": [
    {
     "name": "stdout",
     "output_type": "stream",
     "text": [
      "[[  5  25  45  65  85]\n",
      " [ 10  30  50  70  90]\n",
      " [ 15  35  55  75  95]\n",
      " [ 20  40  60  80 100]]\n"
     ]
    }
   ],
   "source": [
    "# 3.4 Answer\n",
    "transposed_arr = arr.transpose()\n",
    "print(transposed_arr)"
   ]
  },
  {
   "cell_type": "markdown",
   "id": "0df36cbf-ed6b-4e86-b916-9fd00e4e8e4d",
   "metadata": {},
   "source": [
    "### 3.5\n",
    "\n",
    "What is the square root of all the elements in arr?"
   ]
  },
  {
   "cell_type": "code",
   "execution_count": 27,
   "id": "73546c38-5238-40e3-b8e0-9d7d67e1fd3b",
   "metadata": {
    "tags": []
   },
   "outputs": [
    {
     "name": "stdout",
     "output_type": "stream",
     "text": [
      "[[ 2.23606798  3.16227766  3.87298335  4.47213595]\n",
      " [ 5.          5.47722558  5.91607978  6.32455532]\n",
      " [ 6.70820393  7.07106781  7.41619849  7.74596669]\n",
      " [ 8.06225775  8.36660027  8.66025404  8.94427191]\n",
      " [ 9.21954446  9.48683298  9.74679434 10.        ]]\n"
     ]
    }
   ],
   "source": [
    "# 3.5 Answer\n",
    "arr_sqrt = arr ** 0.5\n",
    "print(arr_sqrt)"
   ]
  },
  {
   "cell_type": "markdown",
   "id": "e22ac20d-7340-4a2f-a613-36be8747c1fd",
   "metadata": {},
   "source": [
    "## Bonus Question\n",
    "\n",
    "Create a 4x4 identity matrix that matches this array:\n",
    "\n",
    "    array([[0, 0, 0, 0],\n",
    "           [1, 0, 0, 0],\n",
    "           [0, 1, 0, 0],\n",
    "           [0, 0, 1, 0]])\n",
    "       \n",
    "Pay attention to the location of the diagonal ones, as well as the data type of the above array.\n",
    "\n",
    "[Click here for a hint.](https://numpy.org/doc/stable/reference/generated/numpy.eye.html)"
   ]
  },
  {
   "cell_type": "code",
   "execution_count": 28,
   "id": "5f0cdd42-4134-482c-98bf-0ded2ac4f4b3",
   "metadata": {
    "tags": []
   },
   "outputs": [
    {
     "data": {
      "text/plain": [
       "array([[0., 0., 0., 0.],\n",
       "       [1., 0., 0., 0.],\n",
       "       [0., 1., 0., 0.],\n",
       "       [0., 0., 1., 0.]])"
      ]
     },
     "execution_count": 28,
     "metadata": {},
     "output_type": "execute_result"
    }
   ],
   "source": [
    "# Bonus question answer\n",
    "#Trial and error and here we go\n",
    "np.eye(4, k=-1)"
   ]
  },
  {
   "cell_type": "markdown",
   "id": "15aeb41b-20c6-42d2-81f7-61b96e51bbb1",
   "metadata": {},
   "source": [
    "# The End!"
   ]
  }
 ],
 "metadata": {
  "kernelspec": {
   "display_name": "Python 3 (ipykernel)",
   "language": "python",
   "name": "python3"
  },
  "language_info": {
   "codemirror_mode": {
    "name": "ipython",
    "version": 3
   },
   "file_extension": ".py",
   "mimetype": "text/x-python",
   "name": "python",
   "nbconvert_exporter": "python",
   "pygments_lexer": "ipython3",
   "version": "3.11.4"
  }
 },
 "nbformat": 4,
 "nbformat_minor": 5
}
