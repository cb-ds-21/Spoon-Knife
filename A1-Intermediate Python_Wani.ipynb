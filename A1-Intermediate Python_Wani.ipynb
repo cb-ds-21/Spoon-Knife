{
 "cells": [
  {
   "cell_type": "markdown",
   "id": "c84fefbf-6238-4c05-b5b8-2a7662858ec3",
   "metadata": {},
   "source": [
    "# Workshop 2 - Intermediate Python\n",
    "___"
   ]
  },
  {
   "cell_type": "markdown",
   "id": "ed89587a-838c-4d44-b5be-9ad8facc30ea",
   "metadata": {},
   "source": [
    "## Exercise 1"
   ]
  },
  {
   "cell_type": "markdown",
   "id": "95f14dad-06bd-4754-8feb-ad3a6064aad8",
   "metadata": {
    "tags": []
   },
   "source": [
    "### 1.1\n",
    "\n",
    "Use conditional logic to check if a number is positive, negative or zero.\n",
    "\n",
    "Try the following values for `num`:\n",
    "\n",
    "- 3\n",
    "- -7\n",
    "- 0"
   ]
  },
  {
   "cell_type": "code",
   "execution_count": 1,
   "id": "71553763-566e-44c1-b5cb-d4f815610c75",
   "metadata": {
    "tags": []
   },
   "outputs": [
    {
     "name": "stdout",
     "output_type": "stream",
     "text": [
      "3 is positive.\n",
      "-7 is negative.\n",
      "0 is zero.\n"
     ]
    }
   ],
   "source": [
    "# 1.1 Answer\n",
    "\n",
    "def check_number(num):\n",
    "    if num > 0:\n",
    "        print (f\"{num} is positive.\")\n",
    "    elif num < 0:\n",
    "        print (f\"{num} is negative.\")\n",
    "    else:\n",
    "        print(f\"{num} is zero.\")\n",
    "\n",
    "check_number(3)  \n",
    "check_number(-7)\n",
    "check_number(0)"
   ]
  },
  {
   "cell_type": "markdown",
   "id": "c8ffaa53-d2d5-4c11-bfbe-e78c908d8d1f",
   "metadata": {},
   "source": [
    "### 1.2\n",
    "\n",
    "Use conditional logic to check if a number is even or odd.\n",
    "\n",
    "Try the following values for `num`:\n",
    "\n",
    "- 234\n",
    "- 81"
   ]
  },
  {
   "cell_type": "code",
   "execution_count": 2,
   "id": "05f8cddb-77da-4b04-8d22-cbf0c901d1a8",
   "metadata": {
    "tags": []
   },
   "outputs": [
    {
     "name": "stdout",
     "output_type": "stream",
     "text": [
      "This 234 is even.\n",
      "This 81 is odd.\n"
     ]
    }
   ],
   "source": [
    "# 1.2 Answer\n",
    "def check_odd_even(num):\n",
    "    if num % 2 == 0:\n",
    "        print(f\"This {num} is even.\")\n",
    "    else:\n",
    "        print(f\"This {num} is odd.\")\n",
    "\n",
    "check_odd_even(234)\n",
    "check_odd_even(81)"
   ]
  },
  {
   "cell_type": "markdown",
   "id": "909387cd-007f-4415-b3bc-54c4c6fd0f39",
   "metadata": {},
   "source": [
    "### 1.3\n",
    "\n",
    "Determine the largest among 3 numbers: \n",
    "\n",
    "```\n",
    "num1 = 23\n",
    "num2 = 45\n",
    "num3 = 6\n",
    "```"
   ]
  },
  {
   "cell_type": "code",
   "execution_count": 3,
   "id": "291d4af0-6f24-4c32-8efa-a79d6e0a2692",
   "metadata": {
    "tags": []
   },
   "outputs": [
    {
     "data": {
      "text/plain": [
       "45"
      ]
     },
     "execution_count": 3,
     "metadata": {},
     "output_type": "execute_result"
    }
   ],
   "source": [
    "# 1.3 Answer\n",
    "# This was my first attempt\n",
    "def largest_num(num1, num2, num3):\n",
    "    return max(num1, num2, num3)\n",
    "\n",
    "largest_num(23, 45, 6)"
   ]
  },
  {
   "cell_type": "code",
   "execution_count": 4,
   "id": "4bc161c1",
   "metadata": {},
   "outputs": [
    {
     "data": {
      "text/plain": [
       "45"
      ]
     },
     "execution_count": 4,
     "metadata": {},
     "output_type": "execute_result"
    }
   ],
   "source": [
    "# However, this is about logical conditions\n",
    "# Harder to think about since I had to evaluate the steps\n",
    "def largest_number(num1, num2, num3):\n",
    "    largest= num1\n",
    "    if num2 > num1:\n",
    "        largest = num2\n",
    "    if num3 > num1:\n",
    "        largest = num3\n",
    "    return largest\n",
    "\n",
    "largest_number(23, 45, 6)"
   ]
  },
  {
   "cell_type": "markdown",
   "id": "fc7dcf20-ed66-45af-8457-4e54db3760c5",
   "metadata": {},
   "source": [
    "## Exercise 2"
   ]
  },
  {
   "cell_type": "markdown",
   "id": "8965821e-0c06-49a6-bbe8-9d8cff8ef7f2",
   "metadata": {},
   "source": [
    "### 2.1\n",
    "\n",
    "Write a loop that iterates over a list of strings and prints `True` if the string is a palindrome and `False` if the string isn't. \n",
    "\n",
    "A palindrome is a word that is read the same backward as forward,e.g. noon, level, civic, etc.,)\n",
    "\n",
    "`words = ['ball', 'kayak', 'song', 'Python', 'madam', 'racecar', 'Laval']`"
   ]
  },
  {
   "cell_type": "code",
   "execution_count": 5,
   "id": "24b1e9e4-48dc-4168-bdb5-00e331591e87",
   "metadata": {
    "tags": []
   },
   "outputs": [
    {
     "name": "stdout",
     "output_type": "stream",
     "text": [
      "False\n",
      "True\n",
      "False\n",
      "False\n",
      "True\n",
      "True\n",
      "False\n"
     ]
    }
   ],
   "source": [
    "# 2.1 Answer\n",
    "def check_string(word):\n",
    "    return word == word[::-1]\n",
    "\n",
    "words = ['ball', 'kayak', 'song', 'Python', 'madam', 'racecar', 'Laval']\n",
    "\n",
    "for word in words:\n",
    "    print(check_string(word))"
   ]
  },
  {
   "cell_type": "markdown",
   "id": "5b52895f-ba4a-49b9-92f0-4e3ea4e06e30",
   "metadata": {},
   "source": [
    "### 2.2\n",
    "\n",
    "Find the sum of all even numbers from 1 to a 100."
   ]
  },
  {
   "cell_type": "code",
   "execution_count": 6,
   "id": "24eb8ffe-da9b-488b-aff0-3af5e642a862",
   "metadata": {
    "tags": []
   },
   "outputs": [
    {
     "data": {
      "text/plain": [
       "2550"
      ]
     },
     "execution_count": 6,
     "metadata": {},
     "output_type": "execute_result"
    }
   ],
   "source": [
    "# 2.2 Answer\n",
    "\n",
    "sum_even = 0\n",
    "\n",
    "for num in range(1, 101):\n",
    "    if num %2 == 0:\n",
    "        sum_even += num \n",
    "\n",
    "sum_even"
   ]
  },
  {
   "cell_type": "markdown",
   "id": "7fe9a82e-7a7d-4f79-840f-18dd0a393b3c",
   "metadata": {},
   "source": [
    "### 2.3\n",
    "\n",
    "You have a list called `cities` with the following elements: \n",
    "\n",
    "```\n",
    "cities = ['Toronto', 'Vancouver', 'Montreal']\n",
    "```\n",
    "\n",
    "Use a for loop to return a list of these elements in reversed order. Call your new list `reversed_cities`.\n",
    "\n",
    "```\n",
    "reversed_cities = ['otnoroT', 'revuocnaV', 'laertnoM']\n",
    "```"
   ]
  },
  {
   "cell_type": "code",
   "execution_count": 7,
   "id": "bde42027-adad-4738-95a5-c5a2aba11534",
   "metadata": {
    "tags": []
   },
   "outputs": [
    {
     "data": {
      "text/plain": [
       "['otnoroT', 'revuocnaV', 'laertnoM']"
      ]
     },
     "execution_count": 7,
     "metadata": {},
     "output_type": "execute_result"
    }
   ],
   "source": [
    "# 2.3 Answer\n",
    "cities = ['Toronto', 'Vancouver', 'Montreal']\n",
    "\n",
    "# Initialize an empty list to store the new data to be created\n",
    "reversed_cities = []\n",
    " \n",
    "for city in cities:\n",
    "    reversed_cities.append(city[::-1])\n",
    "    \n",
    "reversed_cities"
   ]
  },
  {
   "cell_type": "markdown",
   "id": "ddc51974-37c5-44d4-904e-ff7992a32274",
   "metadata": {},
   "source": [
    "## 2.4\n",
    "\n",
    "Reverse the same above string, but this time using a function. Create a function called `reverse_string()` that will take in the list of cities, then reverses that string."
   ]
  },
  {
   "cell_type": "code",
   "execution_count": 8,
   "id": "8f8dfb64-774a-484c-9268-9a1941f1243e",
   "metadata": {
    "tags": []
   },
   "outputs": [
    {
     "data": {
      "text/plain": [
       "['otnoroT', 'revuocnaV', 'laertnoM']"
      ]
     },
     "execution_count": 8,
     "metadata": {},
     "output_type": "execute_result"
    }
   ],
   "source": [
    "# 2.4 Answer\n",
    "\n",
    "def reverse_string(cities):\n",
    "    reversed_cities = []\n",
    "    for city in cities:\n",
    "        reversed_cities.append(city[::-1])\n",
    "    return reversed_cities\n",
    "\n",
    "cities = ['Toronto', 'Vancouver', 'Montreal']\n",
    "\n",
    "reversed_cities = reverse_string(cities)\n",
    "\n",
    "reversed_cities"
   ]
  },
  {
   "cell_type": "markdown",
   "id": "d16b527c-20f3-4091-b561-81e931627032",
   "metadata": {},
   "source": [
    "## Exercise 3"
   ]
  },
  {
   "cell_type": "markdown",
   "id": "2b02bdcd-5ac8-4c41-b071-5cd7898f09f7",
   "metadata": {},
   "source": [
    "### 3.1\n",
    "\n",
    "Write a Python function called `test_distinct()` that takes a sequence of numbers and determines whether all the numbers in that sequence are distinct from one another, or not.\n",
    "\n",
    "Your function should have the following output, when the following lists are passed as arguments:\n",
    "\n",
    "```\n",
    "test_distinct([2,3,4,5,7,8]) -> True\n",
    "\n",
    "test_distinct([2,3,4,5,8,8]) -> False\n",
    "```\n"
   ]
  },
  {
   "cell_type": "code",
   "execution_count": 9,
   "id": "51a9c201-a89b-4ccd-892b-c5e5cf1a1b7f",
   "metadata": {
    "tags": []
   },
   "outputs": [
    {
     "name": "stdout",
     "output_type": "stream",
     "text": [
      "True\n",
      "False\n"
     ]
    }
   ],
   "source": [
    "# 3.1 Answer\n",
    "def test_distinct(numbers):\n",
    "    unique_element = set(numbers)\n",
    "    # Comparing one list to another without duplicates\n",
    "    return len(numbers) == len(unique_element)   \n",
    "\n",
    "print(test_distinct([2,3,4,5,7,8]))\n",
    "print(test_distinct([2,3,4,5,8,8]))"
   ]
  },
  {
   "cell_type": "markdown",
   "id": "09bf0e21-878a-448b-8481-494c085042fc",
   "metadata": {},
   "source": [
    "### 3.2\n",
    "\n",
    "Creates a function called `first_last()` that takes a string of text and returns the first and last characters of that string.\n",
    "\n",
    "You should get the following output:\n",
    "\n",
    "```\n",
    "first_last('Montreal') -> 'Ml'\n",
    "```"
   ]
  },
  {
   "cell_type": "code",
   "execution_count": 10,
   "id": "48ffd70f-8260-45ef-802c-89616ccb5b61",
   "metadata": {
    "tags": []
   },
   "outputs": [
    {
     "data": {
      "text/plain": [
       "'Ml'"
      ]
     },
     "execution_count": 10,
     "metadata": {},
     "output_type": "execute_result"
    }
   ],
   "source": [
    "# 3.2 Answer\n",
    "def first_last(text):\n",
    "    return text[0] + text[-1]\n",
    "\n",
    "first_last('Montreal') "
   ]
  },
  {
   "cell_type": "markdown",
   "id": "db0bfa97-10ed-4c32-9f60-7fb7170620f4",
   "metadata": {},
   "source": [
    "### 3.3\n",
    "\n",
    "Create a function called `get_century()` that takes a year and returns its corresponding century.\n",
    "\n",
    "For example, your `get_century()` function should return the following:\n",
    "\n",
    "```\n",
    "get_century(2005) ➞ 21\n",
    "\n",
    "get_century(1850) ➞ 19\n",
    "\n",
    "get_century(-332) ➞ -4\n",
    "\n",
    "get_century(55) ➞ 1\n",
    "\n",
    "get_century(-65) ➞ -1\n",
    "```"
   ]
  },
  {
   "cell_type": "code",
   "execution_count": 11,
   "id": "3a1181f0-cef5-4a49-9285-f36fce7fa755",
   "metadata": {
    "tags": []
   },
   "outputs": [
    {
     "name": "stdout",
     "output_type": "stream",
     "text": [
      "21\n",
      "19\n",
      "-4\n",
      "1\n",
      "-1\n"
     ]
    }
   ],
   "source": [
    "# 3.3 Answer\n",
    "def get_century(year):\n",
    "    if year < 0:\n",
    "         # For negative years (e.g. -101 year is 2nd century not 1st)\n",
    "        century = (year + 1) // 100\n",
    "    else:\n",
    "        # Since division truncates any remainder, we add 1 so the result is rounded up\n",
    "        century = year // 100 + 1\n",
    "    return century\n",
    " \n",
    "print(get_century(2005))\n",
    "print(get_century(1850))\n",
    "print(get_century(-332))\n",
    "print(get_century(55))\n",
    "print(get_century(-65))"
   ]
  },
  {
   "cell_type": "markdown",
   "id": "fd8b6a46-0d76-4af6-b1ab-f25615f8a563",
   "metadata": {},
   "source": [
    "## Exercise 4"
   ]
  },
  {
   "cell_type": "markdown",
   "id": "ce69c844-f806-497b-b4bf-8a104552c4d2",
   "metadata": {
    "tags": []
   },
   "source": [
    "### 4.1\n",
    "\n",
    "You have the following list of user IDs.\n",
    "\n",
    "```\n",
    "lst = [gyhwefy7832ryyg-US, iu7ytf87gyuwef-CA, 98yfyg82t3r-US,\n",
    "    iuhsdf897y3righsfe-US, iushdf98h23ryg-IT, GHsg1s54sda8-CA, iuhdf9h32ryu9gf-IT,\n",
    "    IUufgh98y34-FR, 98yfdiuhdfbviuh8-UK, 45asdjJHHghsdas-CA\n",
    "]\n",
    "```\n",
    "\n",
    "Each ID is made up of a unique userID section, as well as a countryID section.\n",
    "\n",
    "Create a function called `country_counter()` that takes in the above list, and gives the following output:\n",
    "\n",
    "```\n",
    "{'US': 3, 'CA': 3, 'IT': 2, 'FR': 1, 'UK': 1}\n",
    "```"
   ]
  },
  {
   "cell_type": "code",
   "execution_count": 12,
   "id": "78ebd6d2-5374-41c4-a814-30f077082d8b",
   "metadata": {
    "tags": []
   },
   "outputs": [
    {
     "data": {
      "text/plain": [
       "{'US': 3, 'CA': 3, 'IT': 2, 'FR': 1, 'UK': 1}"
      ]
     },
     "execution_count": 12,
     "metadata": {},
     "output_type": "execute_result"
    }
   ],
   "source": [
    "# 4.1 Answer\n",
    "\n",
    "def country_counter(lst):\n",
    "    # Initialize an empty dictionary\n",
    "    country_counts = {}\n",
    "    \n",
    "    for user_id in lst:\n",
    "        # Extracting the country code from the user ID\n",
    "        country_code = user_id[-2:]\n",
    "        # Counting country code\n",
    "        country_counts[country_code] = country_counts.get(country_code, 0) + 1\n",
    "    \n",
    "    return country_counts\n",
    "\n",
    "lst = ['gyhwefy7832ryyg-US', 'iu7ytf87gyuwef-CA', '98yfyg82t3r-US',\n",
    "       'iuhsdf897y3righsfe-US', 'iushdf98h23ryg-IT', 'GHsg1s54sda8-CA',\n",
    "       'iuhdf9h32ryu9gf-IT', 'IUufgh98y34-FR', '98yfdiuhdfbviuh8-UK',\n",
    "       '45asdjJHHghsdas-CA']\n",
    "\n",
    "country_counter(lst)"
   ]
  },
  {
   "cell_type": "markdown",
   "id": "c7ce8fef-93f4-46f1-bc23-f0bb74c6a12c",
   "metadata": {},
   "source": [
    "### Exercise 4.2\n",
    "\n",
    "Create a function called `factorial()` that computes the factorial of a given number. \n",
    "\n",
    "In math the factorial of a positive integer is the product of all integers smaller than or equal to that integer, starting from 1. \n",
    "\n",
    "For example, the factorial of 4 (4!) can be calculated as follows:\n",
    "\n",
    "$$4! = 4*3*2*1$$\n",
    "$$4! = 24$$\n",
    "\n",
    "Your `factorial()` function should have the following output for the number 4:\n",
    "\n",
    "```\n",
    "factorial(4) --> 24\n",
    "```"
   ]
  },
  {
   "cell_type": "code",
   "execution_count": 13,
   "id": "589ace79-3f0c-4120-8bb4-d0ad247a82dd",
   "metadata": {
    "tags": []
   },
   "outputs": [
    {
     "data": {
      "text/plain": [
       "24"
      ]
     },
     "execution_count": 13,
     "metadata": {},
     "output_type": "execute_result"
    }
   ],
   "source": [
    "# 4.2 Answer\n",
    "def factorial(n):\n",
    "    # Base case: factorial of 0 as 1\n",
    "    if n == 0:\n",
    "        return 1\n",
    "    # Forumula is to multiply n by the factorial (n-1)\n",
    "    else:\n",
    "        return n * factorial(n - 1)\n",
    "\n",
    "factorial(4)"
   ]
  },
  {
   "cell_type": "markdown",
   "id": "ad076fb7-8fd5-4e27-a850-9557a4ea455f",
   "metadata": {
    "tags": []
   },
   "source": [
    "### 4.3\n",
    "\n",
    "Create a function called `gcd()` to find the greatest common divisor (GCD) of the following two numbers: 99 and 45."
   ]
  },
  {
   "cell_type": "code",
   "execution_count": 14,
   "id": "d723956c-b876-4bcf-b4b4-4df106b78112",
   "metadata": {
    "tags": []
   },
   "outputs": [
    {
     "data": {
      "text/plain": [
       "9"
      ]
     },
     "execution_count": 14,
     "metadata": {},
     "output_type": "execute_result"
    }
   ],
   "source": [
    "# 4.3 Answer\n",
    "def gcd(a, b):\n",
    "    if b == 0:\n",
    "        return a\n",
    "    else:\n",
    "        return gcd(b, a % b)\n",
    "\n",
    "gcd(99, 45)"
   ]
  },
  {
   "cell_type": "markdown",
   "id": "dbc8cc9c-60ac-4fc7-a5eb-82e707c3733c",
   "metadata": {},
   "source": [
    "## Exercise 5"
   ]
  },
  {
   "cell_type": "markdown",
   "id": "45e4cc9f-8925-4800-8161-ccdaea54ad2f",
   "metadata": {},
   "source": [
    "### 5.1\n",
    "\n",
    "Create a function called `pyramid()`, that takes in a number, then prints a sideways pyramid with a number of levels that is equivalant to that number.\n",
    "\n",
    "For example, `pyramid(4)` should print out:\n",
    "\n",
    "```\n",
    "* \n",
    "* * \n",
    "* * * \n",
    "* * * * \n",
    "* * * \n",
    "* * \n",
    "* \n",
    "```\n",
    "\n",
    "Print an 8 leveled pyramid like the one below with your `pyramid()` function:\n",
    "\n",
    "```\n",
    "* \n",
    "* * \n",
    "* * * \n",
    "* * * * \n",
    "* * * * * \n",
    "* * * * * * \n",
    "* * * * * * * \n",
    "* * * * * * * * \n",
    "* * * * * * * \n",
    "* * * * * * \n",
    "* * * * * \n",
    "* * * * \n",
    "* * * \n",
    "* * \n",
    "* \n",
    "```"
   ]
  },
  {
   "cell_type": "code",
   "execution_count": 15,
   "id": "da09de09-cd7f-432c-90b1-e8c9b2acd256",
   "metadata": {
    "tags": []
   },
   "outputs": [],
   "source": [
    "# 5.1 Answer\n",
    "def pyramid(levels):\n",
    "    '''\n",
    "      Insert code here, unable to determine\n",
    "      print(\"*\")    \n",
    "    \n",
    "    '''\n",
    "# Test the function with 8 levels\n",
    "pyramid(8)"
   ]
  },
  {
   "cell_type": "markdown",
   "id": "a1d590ef-3b6b-4b9e-9896-60b928779e6e",
   "metadata": {},
   "source": [
    "# The End!"
   ]
  }
 ],
 "metadata": {
  "kernelspec": {
   "display_name": "Python 3 (ipykernel)",
   "language": "python",
   "name": "python3"
  },
  "language_info": {
   "codemirror_mode": {
    "name": "ipython",
    "version": 3
   },
   "file_extension": ".py",
   "mimetype": "text/x-python",
   "name": "python",
   "nbconvert_exporter": "python",
   "pygments_lexer": "ipython3",
   "version": "3.11.4"
  }
 },
 "nbformat": 4,
 "nbformat_minor": 5
}
